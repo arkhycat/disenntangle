{
 "cells": [
  {
   "cell_type": "code",
   "execution_count": 1,
   "metadata": {},
   "outputs": [],
   "source": [
    "!CUDA_LAUNCH_BLOCKING=1"
   ]
  },
  {
   "cell_type": "code",
   "execution_count": 2,
   "metadata": {},
   "outputs": [],
   "source": [
    "import torch\n",
    "import torch.nn as nn\n",
    "import numpy as np\n",
    "import random\n",
    "\n",
    "torch.manual_seed(123)\n",
    "torch.cuda.manual_seed(123)\n",
    "np.random.seed(123)\n",
    "random.seed(123)\n",
    "torch.backends.cudnn.enabled=False\n",
    "torch.backends.cudnn.deterministic=True"
   ]
  },
  {
   "cell_type": "code",
   "execution_count": 3,
   "metadata": {},
   "outputs": [
    {
     "data": {
      "text/plain": [
       "<torch.autograd.anomaly_mode.set_detect_anomaly at 0x7ff19038ba60>"
      ]
     },
     "execution_count": 3,
     "metadata": {},
     "output_type": "execute_result"
    }
   ],
   "source": [
    "torch.autograd.set_detect_anomaly(True)"
   ]
  },
  {
   "cell_type": "code",
   "execution_count": 4,
   "metadata": {},
   "outputs": [],
   "source": [
    "%load_ext autoreload\n",
    "%autoreload 2"
   ]
  },
  {
   "cell_type": "code",
   "execution_count": 5,
   "metadata": {},
   "outputs": [],
   "source": [
    "import torch\n",
    "import torchvision\n",
    "import torchvision.transforms as transforms\n",
    "import torch.optim as optim\n",
    "import time\n",
    "import torch.nn.functional as F\n",
    "import torch.nn as nn\n",
    "import matplotlib.pyplot as plt\n",
    "from torchvision import models"
   ]
  },
  {
   "cell_type": "code",
   "execution_count": 6,
   "metadata": {},
   "outputs": [
    {
     "name": "stdout",
     "output_type": "stream",
     "text": [
      "cuda:0\n"
     ]
    }
   ],
   "source": [
    "# check GPU availability\n",
    "device = torch.device(\"cuda:0\" if torch.cuda.is_available() else \"cpu\")\n",
    "print(device)"
   ]
  },
  {
   "cell_type": "code",
   "execution_count": 7,
   "metadata": {},
   "outputs": [],
   "source": [
    "from col_mnist import ColMNIST\n",
    "trainloader = torch.utils.data.DataLoader(\n",
    "  ColMNIST('data/mnist', train=True, download=True,\n",
    "                             transform=torchvision.transforms.Compose([#torchvision.transforms.Resize((224, 224)),\n",
    "                               torchvision.transforms.ToTensor(),\n",
    "                             ])),\n",
    "  batch_size=32, shuffle=True)\n",
    "\n",
    "testloader = torch.utils.data.DataLoader(\n",
    "  ColMNIST('data/mnist', train=False, download=True,\n",
    "                             transform=torchvision.transforms.Compose([#torchvision.transforms.Resize((224, 224)),\n",
    "                               torchvision.transforms.ToTensor()\n",
    "                             ])),\n",
    "  batch_size=32, shuffle=True)\n",
    "\n",
    "#Image shape: 3x32x32"
   ]
  },
  {
   "cell_type": "code",
   "execution_count": 8,
   "metadata": {},
   "outputs": [
    {
     "name": "stdout",
     "output_type": "stream",
     "text": [
      "VGG(\n",
      "  (features): Sequential(\n",
      "    (0): Conv2d(3, 64, kernel_size=(3, 3), stride=(1, 1), padding=(1, 1))\n",
      "    (1): ReLU(inplace=True)\n",
      "    (2): Conv2d(64, 64, kernel_size=(3, 3), stride=(1, 1), padding=(1, 1))\n",
      "    (3): ReLU(inplace=True)\n",
      "    (4): MaxPool2d(kernel_size=2, stride=2, padding=0, dilation=1, ceil_mode=False)\n",
      "    (5): Conv2d(64, 128, kernel_size=(3, 3), stride=(1, 1), padding=(1, 1))\n",
      "    (6): ReLU(inplace=True)\n",
      "    (7): Conv2d(128, 128, kernel_size=(3, 3), stride=(1, 1), padding=(1, 1))\n",
      "    (8): ReLU(inplace=True)\n",
      "    (9): MaxPool2d(kernel_size=2, stride=2, padding=0, dilation=1, ceil_mode=False)\n",
      "    (10): Conv2d(128, 256, kernel_size=(3, 3), stride=(1, 1), padding=(1, 1))\n",
      "    (11): ReLU(inplace=True)\n",
      "    (12): Conv2d(256, 256, kernel_size=(3, 3), stride=(1, 1), padding=(1, 1))\n",
      "    (13): ReLU(inplace=True)\n",
      "    (14): Conv2d(256, 256, kernel_size=(3, 3), stride=(1, 1), padding=(1, 1))\n",
      "    (15): ReLU(inplace=True)\n",
      "    (16): MaxPool2d(kernel_size=2, stride=2, padding=0, dilation=1, ceil_mode=False)\n",
      "    (17): Conv2d(256, 512, kernel_size=(3, 3), stride=(1, 1), padding=(1, 1))\n",
      "    (18): ReLU(inplace=True)\n",
      "    (19): Conv2d(512, 512, kernel_size=(3, 3), stride=(1, 1), padding=(1, 1))\n",
      "    (20): ReLU(inplace=True)\n",
      "    (21): Conv2d(512, 512, kernel_size=(3, 3), stride=(1, 1), padding=(1, 1))\n",
      "    (22): ReLU(inplace=True)\n",
      "    (23): MaxPool2d(kernel_size=2, stride=2, padding=0, dilation=1, ceil_mode=False)\n",
      "    (24): Conv2d(512, 512, kernel_size=(3, 3), stride=(1, 1), padding=(1, 1))\n",
      "    (25): ReLU(inplace=True)\n",
      "    (26): Conv2d(512, 512, kernel_size=(3, 3), stride=(1, 1), padding=(1, 1))\n",
      "    (27): ReLU(inplace=True)\n",
      "    (28): Conv2d(512, 512, kernel_size=(3, 3), stride=(1, 1), padding=(1, 1))\n",
      "    (29): ReLU(inplace=True)\n",
      "    (30): MaxPool2d(kernel_size=2, stride=2, padding=0, dilation=1, ceil_mode=False)\n",
      "  )\n",
      "  (avgpool): AdaptiveAvgPool2d(output_size=(7, 7))\n",
      "  (classifier): Sequential(\n",
      "    (0): Linear(in_features=25088, out_features=4096, bias=True)\n",
      "    (1): ReLU(inplace=True)\n",
      "    (2): Dropout(p=0.5, inplace=False)\n",
      "    (3): Linear(in_features=4096, out_features=4096, bias=True)\n",
      "    (4): ReLU(inplace=True)\n",
      "    (5): Dropout(p=0.5, inplace=False)\n",
      "    (6): Linear(in_features=4096, out_features=1000, bias=True)\n",
      "  )\n",
      ")\n"
     ]
    }
   ],
   "source": [
    "vgg16 = models.vgg16(pretrained=True)\n",
    "vgg16.to(device)\n",
    "print(vgg16)"
   ]
  },
  {
   "cell_type": "code",
   "execution_count": 9,
   "metadata": {},
   "outputs": [],
   "source": [
    "# change the number of classes \n",
    "vgg16.classifier[6].out_features = 30\n",
    "# freeze convolution weights\n",
    "for param in vgg16.features.parameters():\n",
    "    param.requires_grad = True"
   ]
  },
  {
   "cell_type": "code",
   "execution_count": 10,
   "metadata": {},
   "outputs": [],
   "source": [
    "from models import DisentangledLinear, BlockDropout\n",
    "\n",
    "n_classes = 30\n",
    "\n",
    "ncc = 2 #number of connected components\n",
    "\n",
    "#vgg16.classifier[3] = DisentangledLinear(vgg16.classifier[3].in_features, vgg16.classifier[3].out_features).to(device)\n",
    "#vgg16.classifier[6] = DisentangledLinear(vgg16.classifier[6].in_features, n_classes).to(device)\n",
    "\n",
    "#vgg16.classifier[3] = DisentangledLinear(vgg16.classifier[3].in_features, 200).to(device)\n",
    "#vgg16.classifier[6] = DisentangledLinear(200, n_classes).to(device)\n",
    "#vgg16.classifier[5] = BlockDropout(vgg16.classifier[6], ncc=ncc, p=0.8, apply_to=\"in\")\n",
    "\n",
    "# disentangle layers right after convolutions\n",
    "vgg16.classifier[0] = DisentangledLinear(vgg16.classifier[0].in_features, vgg16.classifier[0].out_features).to(device)\n",
    "vgg16.classifier[3] = DisentangledLinear(vgg16.classifier[3].in_features, vgg16.classifier[3].out_features).to(device)\n",
    "vgg16.classifier[2] = BlockDropout(vgg16.classifier[3], ncc=ncc, p=0.8, apply_to=\"in\")\n",
    "\n",
    "for param in vgg16.features.parameters():\n",
    "    param.requires_grad = True"
   ]
  },
  {
   "cell_type": "code",
   "execution_count": 11,
   "metadata": {},
   "outputs": [
    {
     "name": "stdout",
     "output_type": "stream",
     "text": [
      "VGG(\n",
      "  (features): Sequential(\n",
      "    (0): Conv2d(3, 64, kernel_size=(3, 3), stride=(1, 1), padding=(1, 1))\n",
      "    (1): ReLU(inplace=True)\n",
      "    (2): Conv2d(64, 64, kernel_size=(3, 3), stride=(1, 1), padding=(1, 1))\n",
      "    (3): ReLU(inplace=True)\n",
      "    (4): MaxPool2d(kernel_size=2, stride=2, padding=0, dilation=1, ceil_mode=False)\n",
      "    (5): Conv2d(64, 128, kernel_size=(3, 3), stride=(1, 1), padding=(1, 1))\n",
      "    (6): ReLU(inplace=True)\n",
      "    (7): Conv2d(128, 128, kernel_size=(3, 3), stride=(1, 1), padding=(1, 1))\n",
      "    (8): ReLU(inplace=True)\n",
      "    (9): MaxPool2d(kernel_size=2, stride=2, padding=0, dilation=1, ceil_mode=False)\n",
      "    (10): Conv2d(128, 256, kernel_size=(3, 3), stride=(1, 1), padding=(1, 1))\n",
      "    (11): ReLU(inplace=True)\n",
      "    (12): Conv2d(256, 256, kernel_size=(3, 3), stride=(1, 1), padding=(1, 1))\n",
      "    (13): ReLU(inplace=True)\n",
      "    (14): Conv2d(256, 256, kernel_size=(3, 3), stride=(1, 1), padding=(1, 1))\n",
      "    (15): ReLU(inplace=True)\n",
      "    (16): MaxPool2d(kernel_size=2, stride=2, padding=0, dilation=1, ceil_mode=False)\n",
      "    (17): Conv2d(256, 512, kernel_size=(3, 3), stride=(1, 1), padding=(1, 1))\n",
      "    (18): ReLU(inplace=True)\n",
      "    (19): Conv2d(512, 512, kernel_size=(3, 3), stride=(1, 1), padding=(1, 1))\n",
      "    (20): ReLU(inplace=True)\n",
      "    (21): Conv2d(512, 512, kernel_size=(3, 3), stride=(1, 1), padding=(1, 1))\n",
      "    (22): ReLU(inplace=True)\n",
      "    (23): MaxPool2d(kernel_size=2, stride=2, padding=0, dilation=1, ceil_mode=False)\n",
      "    (24): Conv2d(512, 512, kernel_size=(3, 3), stride=(1, 1), padding=(1, 1))\n",
      "    (25): ReLU(inplace=True)\n",
      "    (26): Conv2d(512, 512, kernel_size=(3, 3), stride=(1, 1), padding=(1, 1))\n",
      "    (27): ReLU(inplace=True)\n",
      "    (28): Conv2d(512, 512, kernel_size=(3, 3), stride=(1, 1), padding=(1, 1))\n",
      "    (29): ReLU(inplace=True)\n",
      "    (30): MaxPool2d(kernel_size=2, stride=2, padding=0, dilation=1, ceil_mode=False)\n",
      "  )\n",
      "  (avgpool): AdaptiveAvgPool2d(output_size=(7, 7))\n",
      "  (classifier): Sequential(\n",
      "    (0): DisentangledLinear(in_features=25088, out_features=4096, bias=True)\n",
      "    (1): ReLU(inplace=True)\n",
      "    (2): BlockDropout(\n",
      "      p=0.8, inplace=False\n",
      "      (layer): DisentangledLinear(in_features=4096, out_features=4096, bias=True)\n",
      "    )\n",
      "    (3): DisentangledLinear(in_features=4096, out_features=4096, bias=True)\n",
      "    (4): ReLU(inplace=True)\n",
      "    (5): Dropout(p=0.5, inplace=False)\n",
      "    (6): Linear(in_features=4096, out_features=30, bias=True)\n",
      "  )\n",
      ")\n"
     ]
    }
   ],
   "source": [
    "print(vgg16)"
   ]
  },
  {
   "cell_type": "code",
   "execution_count": 12,
   "metadata": {},
   "outputs": [],
   "source": [
    "# optimizer\n",
    "optimizer = optim.Adam(vgg16.classifier.parameters(), lr=0.001)\n",
    "# loss function\n",
    "criterion = nn.CrossEntropyLoss()"
   ]
  },
  {
   "cell_type": "code",
   "execution_count": 13,
   "metadata": {},
   "outputs": [],
   "source": [
    "# validation function\n",
    "def validate(model, test_dataloader):\n",
    "    model.eval()\n",
    "    val_running_loss = 0.0\n",
    "    val_running_correct = 0\n",
    "    for int, data in enumerate(test_dataloader):\n",
    "        data, (target, dclr_idx, bclr_idx) = data[0], data[1]\n",
    "        target += bclr_idx*10\n",
    "        \n",
    "        data = data.to(device)\n",
    "        target = target.to(device)\n",
    "        output = model(data)\n",
    "        loss = criterion(output, target)\n",
    "        \n",
    "        val_running_loss += loss.item()\n",
    "        _, preds = torch.max(output.data, 1)\n",
    "        val_running_correct += (preds == target).sum().item()\n",
    "    \n",
    "    val_loss = val_running_loss/len(test_dataloader.dataset)\n",
    "    val_accuracy = 100. * val_running_correct/len(test_dataloader.dataset)\n",
    "    print(f'Val Loss: {val_loss:.4f}, Val Acc: {val_accuracy:.2f}')\n",
    "    \n",
    "    return val_loss, val_accuracy"
   ]
  },
  {
   "cell_type": "code",
   "execution_count": 14,
   "metadata": {},
   "outputs": [],
   "source": [
    "def neuron_wise_br(model, layer, blocks, examples, ncc):\n",
    "    model.eval()\n",
    "    br_wo_neuron = [np.inf]*layer.out_features\n",
    "    for n in range(layer.out_features):\n",
    "        if layer.out_mask is not None:\n",
    "            mask = torch.clone(layer.out_mask)\n",
    "        else:\n",
    "            mask = torch.ones(layer.out_features, dtype=torch.bool)\n",
    "        if mask[n] > 0:\n",
    "            mask[n] = 0\n",
    "            a_n = normalize_w(layer.weight[mask])\n",
    "            _, s, _ = torch.svd(a_n)\n",
    "            br_wo_neuron[n] = ncc - torch.sum(s[:ncc]).detach().cpu()\n",
    "    return br_wo_neuron"
   ]
  },
  {
   "cell_type": "code",
   "execution_count": 15,
   "metadata": {},
   "outputs": [],
   "source": [
    "import matplotlib.pyplot as plt\n",
    "import numpy as np\n",
    "\n",
    "def plot_blocked_weights(layer):\n",
    "    plt.figure(figsize=(20, 7))\n",
    "    blocks_in = compute_layer_blocks_in(layer, ncc)\n",
    "    blocks_out = compute_layer_blocks_out(layer, ncc)\n",
    "    plt.imshow(layer.weight[np.argsort(blocks_out)][:, np.argsort(blocks_in)].cpu().detach().numpy())\n",
    "    plt.show()"
   ]
  },
  {
   "cell_type": "code",
   "execution_count": 16,
   "metadata": {},
   "outputs": [],
   "source": [
    "from models import block_regularizer, compute_layer_blocks_in, compute_layer_blocks_out\n",
    "from spectral_utils import normalize_w\n",
    "import numpy as np\n",
    "\n",
    "def prune(model, layer_out, layer_in, ncc):\n",
    "    blocks = compute_layer_blocks_in(layer_out, ncc)\n",
    "    for batch_features in testloader:\n",
    "        batch_features = batch_features[0]\n",
    "        test_examples = batch_features.to(device)\n",
    "        break\n",
    "    re = neuron_wise_br(model, layer_in, blocks, test_examples, ncc)\n",
    "    removal_mask = layer_in.out_mask\n",
    "    if removal_mask is None:\n",
    "        removal_mask = torch.ones(layer_in.out_features, dtype=torch.bool)\n",
    "    removal_mask[np.argmin(re)] = 0\n",
    "    layer_out.turn_input_neurons_off(removal_mask)\n",
    "    layer_in.turn_output_neurons_off(removal_mask)\n",
    "    #layer_out.remove_neurons_in(removal_mask)\n",
    "    #layer_in.remove_neurons_out(removal_mask)\n",
    "    #optimizer = optim.Adam(vgg16.classifier.parameters(), lr=0.001)\n",
    "    print(\"n neurons:\"+str(layer_out.in_mask.sum().item()))\n",
    "    #print(\"n neurons:\"+str(layer_out.in_features))"
   ]
  },
  {
   "cell_type": "code",
   "execution_count": 21,
   "metadata": {},
   "outputs": [],
   "source": [
    "# training function\n",
    "n_epochs = 30\n",
    "total_batches = len(trainloader)*n_epochs\n",
    "layer_size_reduction = 100\n",
    "def fit(model, train_dataloader):\n",
    "    model.train()\n",
    "    train_running_loss = 0.0\n",
    "    train_running_correct = 0\n",
    "    for i, data in enumerate(train_dataloader):\n",
    "        data, (target, dclr_idx, bclr_idx) = data[0], data[1]\n",
    "        target += bclr_idx*10\n",
    "        \n",
    "        data = data.to(device)\n",
    "        target = target.to(device)\n",
    "        optimizer.zero_grad()\n",
    "        output = model(data)\n",
    "        block_reg = block_regularizer(model.classifier[3], ncc)\n",
    "        loss = criterion(output, target)# + block_reg\n",
    "        #loss = block_reg\n",
    "        train_running_loss += loss.item()\n",
    "        _, preds = torch.max(output.data, 1)\n",
    "        train_running_correct += (preds == target).sum().item()\n",
    "        loss.backward()\n",
    "        optimizer.step()\n",
    "        if (i)%(int(round(total_batches/(layer_size_reduction)))) == 0:\n",
    "            print(\"Block regularizer \"+str(block_reg.item()))\n",
    "            #plot_blocked_weights(vgg16.classifier[6])\n",
    "            #plot_blocked_weights(vgg16.classifier[3])\n",
    "            prune(model, vgg16.classifier[3], vgg16.classifier[0], ncc)\n",
    "            \n",
    "            \n",
    "    train_loss = train_running_loss/len(train_dataloader.dataset)\n",
    "    train_accuracy = 100. * train_running_correct/len(train_dataloader.dataset)\n",
    "    print(f'Train Loss: {train_loss:.4f}, Train Acc: {train_accuracy:.2f}')\n",
    "    \n",
    "    return train_loss, train_accuracy, block_reg.item()"
   ]
  },
  {
   "cell_type": "code",
   "execution_count": null,
   "metadata": {
    "scrolled": true
   },
   "outputs": [
    {
     "name": "stdout",
     "output_type": "stream",
     "text": [
      "0\n",
      "Block regularizer 0.9821227788925171\n"
     ]
    }
   ],
   "source": [
    "train_loss , train_accuracy = [], []\n",
    "val_loss , val_accuracy, br = [], [], []\n",
    "start = time.time()\n",
    "for epoch in range(n_epochs):\n",
    "    print(epoch)\n",
    "    train_epoch_loss, train_epoch_accuracy, block_reg = fit(vgg16, trainloader)\n",
    "    val_epoch_loss, val_epoch_accuracy = validate(vgg16, testloader)\n",
    "    train_loss.append(train_epoch_loss)\n",
    "    train_accuracy.append(train_epoch_accuracy)\n",
    "    br.append(block_reg)\n",
    "    val_loss.append(val_epoch_loss)\n",
    "    val_accuracy.append(val_epoch_accuracy)\n",
    "    torch.save(vgg16, 'models/vgg16disen_colmnist_e'+str(epoch)+'.pt')\n",
    "end = time.time()\n",
    "print((end-start)/60, 'minutes')"
   ]
  },
  {
   "cell_type": "code",
   "execution_count": null,
   "metadata": {
    "scrolled": true
   },
   "outputs": [],
   "source": [
    "plt.figure(figsize=(10, 7))\n",
    "plt.plot(train_accuracy, color='green', label='train accuracy')\n",
    "plt.plot(val_accuracy, color='blue', label='validataion accuracy')\n",
    "plt.legend()\n",
    "plt.savefig('accuracy.png')\n",
    "plt.show()"
   ]
  },
  {
   "cell_type": "code",
   "execution_count": null,
   "metadata": {},
   "outputs": [],
   "source": [
    "plt.figure(figsize=(10, 7))\n",
    "plt.plot(br, color='red', label='block regularizer')\n",
    "plt.legend()\n",
    "plt.savefig('br.png')\n",
    "plt.show()"
   ]
  },
  {
   "cell_type": "code",
   "execution_count": null,
   "metadata": {},
   "outputs": [],
   "source": [
    "plt.figure(figsize=(10, 7))\n",
    "plt.plot(train_loss, color='orange', label='train loss')\n",
    "plt.plot(val_loss, color='red', label='validataion loss')\n",
    "plt.legend()\n",
    "plt.savefig('loss.png')\n",
    "plt.show()"
   ]
  },
  {
   "cell_type": "code",
   "execution_count": null,
   "metadata": {},
   "outputs": [],
   "source": [
    "#find activations for images\n",
    "\n",
    "\n",
    "class SaveOutput:\n",
    "    def __init__(self):\n",
    "        self.outputs = None\n",
    "        \n",
    "    def __call__(self, module, module_in, module_out):\n",
    "        self.outputs = module_out.detach().cpu().numpy()\n",
    "\n",
    "hook = SaveOutput()\n",
    "vgg16.classifier[3].register_forward_hook(hook)\n",
    "\n",
    "weighted_images_pos = np.zeros((200, 3, 36, 36))\n",
    "weighted_images_neg = np.zeros((200, 3, 36, 36))\n",
    "act = np.zeros((0, 200))\n",
    "\n",
    "for i, data in enumerate(testloader):\n",
    "    data, target = data[0], data[1]\n",
    "    data = data.to(device)\n",
    "    output = vgg16(data)\n",
    "    data = data.detach().cpu().numpy()\n",
    "\n",
    "    batch_ext = np.repeat(data[:, np.newaxis, :, :], 200, axis=1)\n",
    "    weighted_images_pos += np.average(batch_ext * np.expand_dims((hook.outputs > 0.5) * hook.outputs, axis=(2, 3, 4)), axis=0)\n",
    "    weighted_images_neg += np.average(batch_ext * np.expand_dims((hook.outputs < -0.5) * -hook.outputs, axis=(2, 3, 4)), axis=0)\n",
    "    \n",
    "    act = np.concatenate((act, hook.outputs), axis=0)\n",
    "\n",
    "weighted_images_pos /= np.expand_dims(np.max(weighted_images_pos, axis=(1, 2, 3)), axis=(1, 2, 3))\n",
    "weighted_images_neg /= np.expand_dims(np.max(weighted_images_neg, axis=(1, 2, 3)), axis=(1, 2, 3))"
   ]
  },
  {
   "cell_type": "code",
   "execution_count": null,
   "metadata": {
    "scrolled": false
   },
   "outputs": [],
   "source": [
    "from mpl_toolkits.axes_grid1 import ImageGrid\n",
    "\n",
    "blocks = compute_layer_blocks_in(vgg16.classifier[6], ncc)\n",
    "for c in range(ncc):\n",
    "    fig = plt.figure(figsize=(20., 20.))\n",
    "    grid = ImageGrid(fig, 111,  # similar to subplot(111)\n",
    "                     nrows_ncols=(int(np.ceil((blocks==c).sum()/10)), 10),  # creates 2x2 grid of axes\n",
    "                     axes_pad=0.1,  # pad between axes in inch.\n",
    "                     )\n",
    "    #for ax, im in zip(grid, weighted_images_pos*np.expand_dims(blocks==c, axis=(1, 2, 3))):\n",
    "    for ax, im in zip(grid, weighted_images_pos[blocks==c]):\n",
    "        ax.imshow(im.transpose(1, 2, 0))"
   ]
  },
  {
   "cell_type": "code",
   "execution_count": null,
   "metadata": {},
   "outputs": [],
   "source": [
    "from mpl_toolkits.axes_grid1 import ImageGrid\n",
    "\n",
    "blocks = compute_layer_blocks_in(vgg16.classifier[6], ncc)\n",
    "for c in range(ncc):\n",
    "    fig = plt.figure(figsize=(20., 20.))\n",
    "    grid = ImageGrid(fig, 111,  # similar to subplot(111)\n",
    "                     nrows_ncols=(int(np.ceil((blocks==c).sum()/10)), 10),  # creates 2x2 grid of axes\n",
    "                     axes_pad=0.1,  # pad between axes in inch.\n",
    "                     )\n",
    "    #for ax, im in zip(grid, weighted_images_pos*np.expand_dims(blocks==c, axis=(1, 2, 3))):\n",
    "    for ax, im in zip(grid, weighted_images_neg[blocks==c]):\n",
    "        ax.imshow(im.transpose(1, 2, 0))"
   ]
  },
  {
   "cell_type": "code",
   "execution_count": null,
   "metadata": {},
   "outputs": [],
   "source": [
    "for c in range(ncc):\n",
    "    fig = plt.figure(figsize=(20., 20.))\n",
    "    grid = ImageGrid(fig, 111,  # similar to subplot(111)\n",
    "                     nrows_ncols=(10, 20),\n",
    "                     axes_pad=0.1,  # pad between axes in inch.\n",
    "                     )\n",
    "    #for ax, im in zip(grid, weighted_images_pos*np.expand_dims(blocks==c, axis=(1, 2, 3))):\n",
    "    for ax, i in zip(grid, range(200)):\n",
    "        ax.hist(act[:, i], bins = 100)"
   ]
  },
  {
   "cell_type": "code",
   "execution_count": null,
   "metadata": {},
   "outputs": [],
   "source": [
    "for i in range(200):\n",
    "    plt.hist(act[:, i], bins = 100)\n",
    "    plt.show()"
   ]
  },
  {
   "cell_type": "code",
   "execution_count": null,
   "metadata": {},
   "outputs": [],
   "source": [
    "import matplotlib.pyplot as plt\n",
    "import numpy as np\n",
    "import torch\n",
    "import torchvision\n",
    "from col_mnist import ColMNIST\n",
    "\n",
    "plt.rcParams[\"axes.grid\"] = False\n",
    "device = \"cuda\" if torch.cuda.is_available() else \"cpu\"\n",
    "\n",
    "def imshow(img):\n",
    "    #img = img / 2 + 0.5     # unnormalize\n",
    "    npimg = img.cpu().numpy()\n",
    "    plt.imshow(np.transpose(npimg, (1, 2, 0)))\n",
    "    plt.show()\n",
    "\n",
    "dataiter = iter(testloader)\n",
    "data, target = dataiter.next()\n",
    "target = target_vec_to_class(target)\n",
    "imshow(torchvision.utils.make_grid(data))\n",
    "img_shape = data[0].shape\n",
    "print(\"Image shape: {}\".format(img_shape))\n",
    "print(target)"
   ]
  },
  {
   "cell_type": "code",
   "execution_count": null,
   "metadata": {},
   "outputs": [],
   "source": [
    "from explainn_code.grab_functions import db_from_dat_with_labels, write_pic_as_sets\n",
    "\n",
    "tail = []\n",
    "head = []\n",
    "\n",
    "for i, data in enumerate(testloader):\n",
    "    data, target = data[0], data[1]\n",
    "    target = target_vec_to_class(target)\n",
    "    data = data.to(device)\n",
    "    target = target.to(device)\n",
    "    output = vgg16(data).cpu()\n",
    "\n",
    "    head.append(vgg16.classifier[6].detach().cpu().numpy())\n",
    "    tail.append(target.detach().cpu().numpy())\n",
    "head = np.concatenate(head)\n",
    "tail = np.concatenate(tail)"
   ]
  },
  {
   "cell_type": "code",
   "execution_count": null,
   "metadata": {},
   "outputs": [],
   "source": [
    "write_pic_as_sets(head, \"vgg_head_blocked_v1.data\")"
   ]
  },
  {
   "cell_type": "code",
   "execution_count": null,
   "metadata": {},
   "outputs": [],
   "source": [
    "write_pic_as_sets(tail \"tail_v1.dat\")"
   ]
  },
  {
   "cell_type": "code",
   "execution_count": null,
   "metadata": {},
   "outputs": [],
   "source": [
    "!conda info --envs"
   ]
  },
  {
   "cell_type": "code",
   "execution_count": null,
   "metadata": {},
   "outputs": [],
   "source": []
  }
 ],
 "metadata": {
  "kernelspec": {
   "display_name": "Python 3 (ipykernel)",
   "language": "python",
   "name": "python3"
  },
  "language_info": {
   "codemirror_mode": {
    "name": "ipython",
    "version": 3
   },
   "file_extension": ".py",
   "mimetype": "text/x-python",
   "name": "python",
   "nbconvert_exporter": "python",
   "pygments_lexer": "ipython3",
   "version": "3.8.10"
  }
 },
 "nbformat": 4,
 "nbformat_minor": 4
}
