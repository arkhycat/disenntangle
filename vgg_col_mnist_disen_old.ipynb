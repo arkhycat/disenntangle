{
 "cells": [
  {
   "cell_type": "code",
   "execution_count": 1,
   "metadata": {},
   "outputs": [],
   "source": [
    "%load_ext autoreload\n",
    "%autoreload 2"
   ]
  },
  {
   "cell_type": "code",
   "execution_count": 2,
   "metadata": {},
   "outputs": [],
   "source": [
    "import torch\n",
    "import torchvision\n",
    "import torchvision.transforms as transforms\n",
    "import torch.optim as optim\n",
    "import time\n",
    "import torch.nn.functional as F\n",
    "import torch.nn as nn\n",
    "import matplotlib.pyplot as plt\n",
    "from torchvision import models"
   ]
  },
  {
   "cell_type": "code",
   "execution_count": 3,
   "metadata": {},
   "outputs": [
    {
     "name": "stdout",
     "output_type": "stream",
     "text": [
      "cuda:0\n"
     ]
    }
   ],
   "source": [
    "# check GPU availability\n",
    "device = torch.device(\"cuda:0\" if torch.cuda.is_available() else \"cpu\")\n",
    "print(device)"
   ]
  },
  {
   "cell_type": "code",
   "execution_count": 3,
   "metadata": {},
   "outputs": [],
   "source": [
    "from col_mnist import ColMNIST\n",
    "trainloader = torch.utils.data.DataLoader(\n",
    "  ColMNIST('data/mnist', train=True, download=True,\n",
    "                             transform=torchvision.transforms.Compose([#torchvision.transforms.Resize((224, 224)),\n",
    "                               torchvision.transforms.ToTensor(),\n",
    "                             ])),\n",
    "  batch_size=32, shuffle=True)\n",
    "\n",
    "testloader = torch.utils.data.DataLoader(\n",
    "  ColMNIST('data/mnist', train=False, download=True,\n",
    "                             transform=torchvision.transforms.Compose([#torchvision.transforms.Resize((224, 224)),\n",
    "                               torchvision.transforms.ToTensor()\n",
    "                             ])),\n",
    "  batch_size=32, shuffle=True)"
   ]
  },
  {
   "cell_type": "code",
   "execution_count": 5,
   "metadata": {},
   "outputs": [],
   "source": [
    "from three_d_shapes_ds import ThreeDShapes\n",
    "trainloader = torch.utils.data.DataLoader(\n",
    "                                      ThreeDShapes(transform=torchvision.transforms.Compose([torchvision.transforms.ToPILImage(), torchvision.transforms.Resize((32, 32)),\n",
    "                                        torchvision.transforms.ToTensor(),\n",
    "                                      ])),\n",
    "                                      batch_size=32, shuffle=True)\n",
    "testloader = torch.utils.data.DataLoader(\n",
    "                                      ThreeDShapes(transform=torchvision.transforms.Compose([torchvision.transforms.ToPILImage(), torchvision.transforms.Resize((32, 32)),\n",
    "                                        torchvision.transforms.ToTensor(),\n",
    "                                      ])),\n",
    "                                      batch_size=32, shuffle=True)"
   ]
  },
  {
   "cell_type": "code",
   "execution_count": 7,
   "metadata": {},
   "outputs": [],
   "source": [
    "l = ThreeDShapes(transform=torchvision.transforms.Compose([torchvision.transforms.ToPILImage(), \n",
    "                                                           torchvision.transforms.Resize((32, 32)), \n",
    "                                                           torchvision.transforms.ToTensor()])).labels"
   ]
  },
  {
   "cell_type": "code",
   "execution_count": 30,
   "metadata": {},
   "outputs": [],
   "source": [
    "import numpy as np\n",
    "loc = np.where((l[:, 0] <= 0.1) & (l[:, 1] <= 0.1) & (l[:, 2] <= 0.1) & (l[:, 3] <= 0.85) & (l[:, 4] <= 1) & (l[:, 5] <= -25))"
   ]
  },
  {
   "cell_type": "code",
   "execution_count": 34,
   "metadata": {},
   "outputs": [
    {
     "data": {
      "text/plain": [
       "array([[  0.        ,   0.        ,   0.        ,   0.75      ,\n",
       "          0.        , -30.        ],\n",
       "       [  0.        ,   0.        ,   0.        ,   0.75      ,\n",
       "          0.        , -25.71428571],\n",
       "       [  0.        ,   0.        ,   0.        ,   0.75      ,\n",
       "          1.        , -30.        ],\n",
       "       [  0.        ,   0.        ,   0.        ,   0.75      ,\n",
       "          1.        , -25.71428571],\n",
       "       [  0.        ,   0.        ,   0.        ,   0.82142857,\n",
       "          0.        , -30.        ],\n",
       "       [  0.        ,   0.        ,   0.        ,   0.82142857,\n",
       "          0.        , -25.71428571],\n",
       "       [  0.        ,   0.        ,   0.        ,   0.82142857,\n",
       "          1.        , -30.        ],\n",
       "       [  0.        ,   0.        ,   0.        ,   0.82142857,\n",
       "          1.        , -25.71428571],\n",
       "       [  0.        ,   0.        ,   0.1       ,   0.75      ,\n",
       "          0.        , -30.        ],\n",
       "       [  0.        ,   0.        ,   0.1       ,   0.75      ,\n",
       "          0.        , -25.71428571],\n",
       "       [  0.        ,   0.        ,   0.1       ,   0.75      ,\n",
       "          1.        , -30.        ],\n",
       "       [  0.        ,   0.        ,   0.1       ,   0.75      ,\n",
       "          1.        , -25.71428571],\n",
       "       [  0.        ,   0.        ,   0.1       ,   0.82142857,\n",
       "          0.        , -30.        ],\n",
       "       [  0.        ,   0.        ,   0.1       ,   0.82142857,\n",
       "          0.        , -25.71428571],\n",
       "       [  0.        ,   0.        ,   0.1       ,   0.82142857,\n",
       "          1.        , -30.        ],\n",
       "       [  0.        ,   0.        ,   0.1       ,   0.82142857,\n",
       "          1.        , -25.71428571],\n",
       "       [  0.        ,   0.1       ,   0.        ,   0.75      ,\n",
       "          0.        , -30.        ],\n",
       "       [  0.        ,   0.1       ,   0.        ,   0.75      ,\n",
       "          0.        , -25.71428571],\n",
       "       [  0.        ,   0.1       ,   0.        ,   0.75      ,\n",
       "          1.        , -30.        ],\n",
       "       [  0.        ,   0.1       ,   0.        ,   0.75      ,\n",
       "          1.        , -25.71428571],\n",
       "       [  0.        ,   0.1       ,   0.        ,   0.82142857,\n",
       "          0.        , -30.        ],\n",
       "       [  0.        ,   0.1       ,   0.        ,   0.82142857,\n",
       "          0.        , -25.71428571],\n",
       "       [  0.        ,   0.1       ,   0.        ,   0.82142857,\n",
       "          1.        , -30.        ],\n",
       "       [  0.        ,   0.1       ,   0.        ,   0.82142857,\n",
       "          1.        , -25.71428571],\n",
       "       [  0.        ,   0.1       ,   0.1       ,   0.75      ,\n",
       "          0.        , -30.        ],\n",
       "       [  0.        ,   0.1       ,   0.1       ,   0.75      ,\n",
       "          0.        , -25.71428571],\n",
       "       [  0.        ,   0.1       ,   0.1       ,   0.75      ,\n",
       "          1.        , -30.        ],\n",
       "       [  0.        ,   0.1       ,   0.1       ,   0.75      ,\n",
       "          1.        , -25.71428571],\n",
       "       [  0.        ,   0.1       ,   0.1       ,   0.82142857,\n",
       "          0.        , -30.        ],\n",
       "       [  0.        ,   0.1       ,   0.1       ,   0.82142857,\n",
       "          0.        , -25.71428571],\n",
       "       [  0.        ,   0.1       ,   0.1       ,   0.82142857,\n",
       "          1.        , -30.        ],\n",
       "       [  0.        ,   0.1       ,   0.1       ,   0.82142857,\n",
       "          1.        , -25.71428571],\n",
       "       [  0.1       ,   0.        ,   0.        ,   0.75      ,\n",
       "          0.        , -30.        ],\n",
       "       [  0.1       ,   0.        ,   0.        ,   0.75      ,\n",
       "          0.        , -25.71428571],\n",
       "       [  0.1       ,   0.        ,   0.        ,   0.75      ,\n",
       "          1.        , -30.        ],\n",
       "       [  0.1       ,   0.        ,   0.        ,   0.75      ,\n",
       "          1.        , -25.71428571],\n",
       "       [  0.1       ,   0.        ,   0.        ,   0.82142857,\n",
       "          0.        , -30.        ],\n",
       "       [  0.1       ,   0.        ,   0.        ,   0.82142857,\n",
       "          0.        , -25.71428571],\n",
       "       [  0.1       ,   0.        ,   0.        ,   0.82142857,\n",
       "          1.        , -30.        ],\n",
       "       [  0.1       ,   0.        ,   0.        ,   0.82142857,\n",
       "          1.        , -25.71428571],\n",
       "       [  0.1       ,   0.        ,   0.1       ,   0.75      ,\n",
       "          0.        , -30.        ],\n",
       "       [  0.1       ,   0.        ,   0.1       ,   0.75      ,\n",
       "          0.        , -25.71428571],\n",
       "       [  0.1       ,   0.        ,   0.1       ,   0.75      ,\n",
       "          1.        , -30.        ],\n",
       "       [  0.1       ,   0.        ,   0.1       ,   0.75      ,\n",
       "          1.        , -25.71428571],\n",
       "       [  0.1       ,   0.        ,   0.1       ,   0.82142857,\n",
       "          0.        , -30.        ],\n",
       "       [  0.1       ,   0.        ,   0.1       ,   0.82142857,\n",
       "          0.        , -25.71428571],\n",
       "       [  0.1       ,   0.        ,   0.1       ,   0.82142857,\n",
       "          1.        , -30.        ],\n",
       "       [  0.1       ,   0.        ,   0.1       ,   0.82142857,\n",
       "          1.        , -25.71428571],\n",
       "       [  0.1       ,   0.1       ,   0.        ,   0.75      ,\n",
       "          0.        , -30.        ],\n",
       "       [  0.1       ,   0.1       ,   0.        ,   0.75      ,\n",
       "          0.        , -25.71428571],\n",
       "       [  0.1       ,   0.1       ,   0.        ,   0.75      ,\n",
       "          1.        , -30.        ],\n",
       "       [  0.1       ,   0.1       ,   0.        ,   0.75      ,\n",
       "          1.        , -25.71428571],\n",
       "       [  0.1       ,   0.1       ,   0.        ,   0.82142857,\n",
       "          0.        , -30.        ],\n",
       "       [  0.1       ,   0.1       ,   0.        ,   0.82142857,\n",
       "          0.        , -25.71428571],\n",
       "       [  0.1       ,   0.1       ,   0.        ,   0.82142857,\n",
       "          1.        , -30.        ],\n",
       "       [  0.1       ,   0.1       ,   0.        ,   0.82142857,\n",
       "          1.        , -25.71428571],\n",
       "       [  0.1       ,   0.1       ,   0.1       ,   0.75      ,\n",
       "          0.        , -30.        ],\n",
       "       [  0.1       ,   0.1       ,   0.1       ,   0.75      ,\n",
       "          0.        , -25.71428571],\n",
       "       [  0.1       ,   0.1       ,   0.1       ,   0.75      ,\n",
       "          1.        , -30.        ],\n",
       "       [  0.1       ,   0.1       ,   0.1       ,   0.75      ,\n",
       "          1.        , -25.71428571],\n",
       "       [  0.1       ,   0.1       ,   0.1       ,   0.82142857,\n",
       "          0.        , -30.        ],\n",
       "       [  0.1       ,   0.1       ,   0.1       ,   0.82142857,\n",
       "          0.        , -25.71428571],\n",
       "       [  0.1       ,   0.1       ,   0.1       ,   0.82142857,\n",
       "          1.        , -30.        ],\n",
       "       [  0.1       ,   0.1       ,   0.1       ,   0.82142857,\n",
       "          1.        , -25.71428571]])"
      ]
     },
     "execution_count": 34,
     "metadata": {},
     "output_type": "execute_result"
    }
   ],
   "source": [
    "l[loc[0]]"
   ]
  },
  {
   "cell_type": "code",
   "execution_count": 33,
   "metadata": {},
   "outputs": [
    {
     "data": {
      "text/plain": [
       "0"
      ]
     },
     "execution_count": 33,
     "metadata": {},
     "output_type": "execute_result"
    }
   ],
   "source": [
    "loc[0]"
   ]
  },
  {
   "cell_type": "code",
   "execution_count": 6,
   "metadata": {},
   "outputs": [
    {
     "ename": "TypeError",
     "evalue": "Simple selection can't process array([], dtype=int64)",
     "output_type": "error",
     "traceback": [
      "\u001b[0;31m---------------------------------------------------------------------------\u001b[0m",
      "\u001b[0;31mTypeError\u001b[0m                                 Traceback (most recent call last)",
      "\u001b[0;32m<ipython-input-6-ec6e4c305573>\u001b[0m in \u001b[0;36m<module>\u001b[0;34m\u001b[0m\n\u001b[1;32m      1\u001b[0m ds = ThreeDShapes(transform=torchvision.transforms.Compose([torchvision.transforms.ToPILImage(), \n\u001b[1;32m      2\u001b[0m                                                            \u001b[0mtorchvision\u001b[0m\u001b[0;34m.\u001b[0m\u001b[0mtransforms\u001b[0m\u001b[0;34m.\u001b[0m\u001b[0mResize\u001b[0m\u001b[0;34m(\u001b[0m\u001b[0;34m(\u001b[0m\u001b[0;36m32\u001b[0m\u001b[0;34m,\u001b[0m \u001b[0;36m32\u001b[0m\u001b[0;34m)\u001b[0m\u001b[0;34m)\u001b[0m\u001b[0;34m,\u001b[0m\u001b[0;34m\u001b[0m\u001b[0;34m\u001b[0m\u001b[0m\n\u001b[0;32m----> 3\u001b[0;31m                                                            torchvision.transforms.ToTensor()]), filtered = True)\n\u001b[0m",
      "\u001b[0;32m~/diseNN/three_d_shapes_ds.py\u001b[0m in \u001b[0;36m__init__\u001b[0;34m(self, transform, filtered)\u001b[0m\n\u001b[1;32m     20\u001b[0m                             \u001b[0;34m(\u001b[0m\u001b[0ml\u001b[0m\u001b[0;34m[\u001b[0m\u001b[0;34m:\u001b[0m\u001b[0;34m,\u001b[0m \u001b[0;36m4\u001b[0m\u001b[0;34m]\u001b[0m \u001b[0;34m<=\u001b[0m \u001b[0;36m0.85\u001b[0m\u001b[0;34m)\u001b[0m \u001b[0;34m&\u001b[0m\u001b[0;34m\u001b[0m\u001b[0;34m\u001b[0m\u001b[0m\n\u001b[1;32m     21\u001b[0m                             (l[:, 5] <= -25))\n\u001b[0;32m---> 22\u001b[0;31m             \u001b[0mself\u001b[0m\u001b[0;34m.\u001b[0m\u001b[0mimages\u001b[0m \u001b[0;34m=\u001b[0m \u001b[0mself\u001b[0m\u001b[0;34m.\u001b[0m\u001b[0mimages\u001b[0m\u001b[0;34m[\u001b[0m\u001b[0;34m:\u001b[0m\u001b[0;34m,\u001b[0m \u001b[0mloc\u001b[0m\u001b[0;34m]\u001b[0m\u001b[0;34m\u001b[0m\u001b[0;34m\u001b[0m\u001b[0m\n\u001b[0m\u001b[1;32m     23\u001b[0m             \u001b[0mself\u001b[0m\u001b[0;34m.\u001b[0m\u001b[0mlabels\u001b[0m \u001b[0;34m=\u001b[0m \u001b[0mself\u001b[0m\u001b[0;34m.\u001b[0m\u001b[0mlabels\u001b[0m\u001b[0;34m[\u001b[0m\u001b[0;34m:\u001b[0m\u001b[0;34m,\u001b[0m \u001b[0mloc\u001b[0m\u001b[0;34m]\u001b[0m\u001b[0;34m\u001b[0m\u001b[0;34m\u001b[0m\u001b[0m\n\u001b[1;32m     24\u001b[0m \u001b[0;34m\u001b[0m\u001b[0m\n",
      "\u001b[0;32mh5py/_objects.pyx\u001b[0m in \u001b[0;36mh5py._objects.with_phil.wrapper\u001b[0;34m()\u001b[0m\n",
      "\u001b[0;32mh5py/_objects.pyx\u001b[0m in \u001b[0;36mh5py._objects.with_phil.wrapper\u001b[0;34m()\u001b[0m\n",
      "\u001b[0;32m~/anaconda3/envs/ae/lib/python3.7/site-packages/h5py/_hl/dataset.py\u001b[0m in \u001b[0;36m__getitem__\u001b[0;34m(self, args, new_dtype)\u001b[0m\n\u001b[1;32m    775\u001b[0m \u001b[0;34m\u001b[0m\u001b[0m\n\u001b[1;32m    776\u001b[0m         \u001b[0;31m# Perform the dataspace selection.\u001b[0m\u001b[0;34m\u001b[0m\u001b[0;34m\u001b[0m\u001b[0;34m\u001b[0m\u001b[0m\n\u001b[0;32m--> 777\u001b[0;31m         \u001b[0mselection\u001b[0m \u001b[0;34m=\u001b[0m \u001b[0msel\u001b[0m\u001b[0;34m.\u001b[0m\u001b[0mselect\u001b[0m\u001b[0;34m(\u001b[0m\u001b[0mself\u001b[0m\u001b[0;34m.\u001b[0m\u001b[0mshape\u001b[0m\u001b[0;34m,\u001b[0m \u001b[0margs\u001b[0m\u001b[0;34m,\u001b[0m \u001b[0mdataset\u001b[0m\u001b[0;34m=\u001b[0m\u001b[0mself\u001b[0m\u001b[0;34m)\u001b[0m\u001b[0;34m\u001b[0m\u001b[0;34m\u001b[0m\u001b[0m\n\u001b[0m\u001b[1;32m    778\u001b[0m \u001b[0;34m\u001b[0m\u001b[0m\n\u001b[1;32m    779\u001b[0m         \u001b[0;32mif\u001b[0m \u001b[0mselection\u001b[0m\u001b[0;34m.\u001b[0m\u001b[0mnselect\u001b[0m \u001b[0;34m==\u001b[0m \u001b[0;36m0\u001b[0m\u001b[0;34m:\u001b[0m\u001b[0;34m\u001b[0m\u001b[0;34m\u001b[0m\u001b[0m\n",
      "\u001b[0;32m~/anaconda3/envs/ae/lib/python3.7/site-packages/h5py/_hl/selections.py\u001b[0m in \u001b[0;36mselect\u001b[0;34m(shape, args, dataset)\u001b[0m\n\u001b[1;32m     80\u001b[0m         \u001b[0mselector\u001b[0m \u001b[0;34m=\u001b[0m \u001b[0m_selector\u001b[0m\u001b[0;34m.\u001b[0m\u001b[0mSelector\u001b[0m\u001b[0;34m(\u001b[0m\u001b[0mspace\u001b[0m\u001b[0;34m)\u001b[0m\u001b[0;34m\u001b[0m\u001b[0;34m\u001b[0m\u001b[0m\n\u001b[1;32m     81\u001b[0m \u001b[0;34m\u001b[0m\u001b[0m\n\u001b[0;32m---> 82\u001b[0;31m     \u001b[0;32mreturn\u001b[0m \u001b[0mselector\u001b[0m\u001b[0;34m.\u001b[0m\u001b[0mmake_selection\u001b[0m\u001b[0;34m(\u001b[0m\u001b[0margs\u001b[0m\u001b[0;34m)\u001b[0m\u001b[0;34m\u001b[0m\u001b[0;34m\u001b[0m\u001b[0m\n\u001b[0m\u001b[1;32m     83\u001b[0m \u001b[0;34m\u001b[0m\u001b[0m\n\u001b[1;32m     84\u001b[0m \u001b[0;34m\u001b[0m\u001b[0m\n",
      "\u001b[0;32mh5py/_selector.pyx\u001b[0m in \u001b[0;36mh5py._selector.Selector.make_selection\u001b[0;34m()\u001b[0m\n",
      "\u001b[0;32mh5py/_selector.pyx\u001b[0m in \u001b[0;36mh5py._selector.Selector.apply_args\u001b[0;34m()\u001b[0m\n",
      "\u001b[0;31mTypeError\u001b[0m: Simple selection can't process array([], dtype=int64)"
     ]
    }
   ],
   "source": [
    "ds = ThreeDShapes(transform=torchvision.transforms.Compose([torchvision.transforms.ToPILImage(), \n",
    "                                                           torchvision.transforms.Resize((32, 32)), \n",
    "                                                           torchvision.transforms.ToTensor()]), filtered = True)"
   ]
  },
  {
   "cell_type": "code",
   "execution_count": 32,
   "metadata": {},
   "outputs": [
    {
     "name": "stdout",
     "output_type": "stream",
     "text": [
      "VGG(\n",
      "  (features): Sequential(\n",
      "    (0): Conv2d(3, 64, kernel_size=(3, 3), stride=(1, 1), padding=(1, 1))\n",
      "    (1): ReLU(inplace=True)\n",
      "    (2): Conv2d(64, 64, kernel_size=(3, 3), stride=(1, 1), padding=(1, 1))\n",
      "    (3): ReLU(inplace=True)\n",
      "    (4): MaxPool2d(kernel_size=2, stride=2, padding=0, dilation=1, ceil_mode=False)\n",
      "    (5): Conv2d(64, 128, kernel_size=(3, 3), stride=(1, 1), padding=(1, 1))\n",
      "    (6): ReLU(inplace=True)\n",
      "    (7): Conv2d(128, 128, kernel_size=(3, 3), stride=(1, 1), padding=(1, 1))\n",
      "    (8): ReLU(inplace=True)\n",
      "    (9): MaxPool2d(kernel_size=2, stride=2, padding=0, dilation=1, ceil_mode=False)\n",
      "    (10): Conv2d(128, 256, kernel_size=(3, 3), stride=(1, 1), padding=(1, 1))\n",
      "    (11): ReLU(inplace=True)\n",
      "    (12): Conv2d(256, 256, kernel_size=(3, 3), stride=(1, 1), padding=(1, 1))\n",
      "    (13): ReLU(inplace=True)\n",
      "    (14): Conv2d(256, 256, kernel_size=(3, 3), stride=(1, 1), padding=(1, 1))\n",
      "    (15): ReLU(inplace=True)\n",
      "    (16): MaxPool2d(kernel_size=2, stride=2, padding=0, dilation=1, ceil_mode=False)\n",
      "    (17): Conv2d(256, 512, kernel_size=(3, 3), stride=(1, 1), padding=(1, 1))\n",
      "    (18): ReLU(inplace=True)\n",
      "    (19): Conv2d(512, 512, kernel_size=(3, 3), stride=(1, 1), padding=(1, 1))\n",
      "    (20): ReLU(inplace=True)\n",
      "    (21): Conv2d(512, 512, kernel_size=(3, 3), stride=(1, 1), padding=(1, 1))\n",
      "    (22): ReLU(inplace=True)\n",
      "    (23): MaxPool2d(kernel_size=2, stride=2, padding=0, dilation=1, ceil_mode=False)\n",
      "    (24): Conv2d(512, 512, kernel_size=(3, 3), stride=(1, 1), padding=(1, 1))\n",
      "    (25): ReLU(inplace=True)\n",
      "    (26): Conv2d(512, 512, kernel_size=(3, 3), stride=(1, 1), padding=(1, 1))\n",
      "    (27): ReLU(inplace=True)\n",
      "    (28): Conv2d(512, 512, kernel_size=(3, 3), stride=(1, 1), padding=(1, 1))\n",
      "    (29): ReLU(inplace=True)\n",
      "    (30): MaxPool2d(kernel_size=2, stride=2, padding=0, dilation=1, ceil_mode=False)\n",
      "  )\n",
      "  (avgpool): AdaptiveAvgPool2d(output_size=(7, 7))\n",
      "  (classifier): Sequential(\n",
      "    (0): Linear(in_features=25088, out_features=4096, bias=True)\n",
      "    (1): ReLU(inplace=True)\n",
      "    (2): Dropout(p=0.5, inplace=False)\n",
      "    (3): Linear(in_features=4096, out_features=4096, bias=True)\n",
      "    (4): ReLU(inplace=True)\n",
      "    (5): Dropout(p=0.5, inplace=False)\n",
      "    (6): Linear(in_features=4096, out_features=1000, bias=True)\n",
      "  )\n",
      ")\n"
     ]
    }
   ],
   "source": [
    "vgg16 = models.vgg16(pretrained=True)\n",
    "vgg16.to(device)\n",
    "print(vgg16)"
   ]
  },
  {
   "cell_type": "code",
   "execution_count": 33,
   "metadata": {},
   "outputs": [],
   "source": [
    "# change the number of classes \n",
    "vgg16.classifier[6].out_features = 30\n",
    "# freeze convolution weights\n",
    "for param in vgg16.features.parameters():\n",
    "    param.requires_grad = True"
   ]
  },
  {
   "cell_type": "code",
   "execution_count": 34,
   "metadata": {},
   "outputs": [],
   "source": [
    "from models import DisentangledLinear, BlockDropout\n",
    "\n",
    "n_classes = 30\n",
    "\n",
    "\n",
    "vgg16.classifier[3] = DisentangledLinear(vgg16.classifier[3].in_features, vgg16.classifier[3].out_features).to(device)\n",
    "vgg16.classifier[6] = DisentangledLinear(vgg16.classifier[6].in_features, n_classes).to(device)\n",
    "vgg16.classifier[5] = BlockDropout(vgg16.classifier[6], ncc=2, apply_to=\"in\")\n",
    "\n",
    "for param in vgg16.features.parameters():\n",
    "    param.requires_grad = True"
   ]
  },
  {
   "cell_type": "code",
   "execution_count": 35,
   "metadata": {},
   "outputs": [],
   "source": [
    "# optimizer\n",
    "optimizer = optim.SGD(vgg16.classifier.parameters(), lr=0.001, momentum=0.9)\n",
    "# loss function\n",
    "criterion = nn.CrossEntropyLoss()"
   ]
  },
  {
   "cell_type": "code",
   "execution_count": 36,
   "metadata": {},
   "outputs": [],
   "source": [
    "# validation function\n",
    "def validate(model, test_dataloader):\n",
    "    model.eval()\n",
    "    val_running_loss = 0.0\n",
    "    val_running_correct = 0\n",
    "    for int, data in enumerate(test_dataloader):\n",
    "        data, (target, dclr_idx, bclr_idx) = data[0], data[1]\n",
    "        target += bclr_idx*10\n",
    "        data = data.to(device)\n",
    "        target = target.to(device)\n",
    "        output = model(data)\n",
    "        loss = criterion(output, target)\n",
    "        \n",
    "        val_running_loss += loss.item()\n",
    "        _, preds = torch.max(output.data, 1)\n",
    "        val_running_correct += (preds == target).sum().item()\n",
    "    \n",
    "    val_loss = val_running_loss/len(test_dataloader.dataset)\n",
    "    val_accuracy = 100. * val_running_correct/len(test_dataloader.dataset)\n",
    "    print(f'Val Loss: {val_loss:.4f}, Val Acc: {val_accuracy:.2f}')\n",
    "    \n",
    "    return val_loss, val_accuracy"
   ]
  },
  {
   "cell_type": "code",
   "execution_count": 37,
   "metadata": {},
   "outputs": [],
   "source": [
    "def neuron_wise_br(model, layer, blocks, examples, ncc):\n",
    "    model.eval()\n",
    "    relative_error = [None]*layer.out_features\n",
    "    for n in range(layer.out_features):\n",
    "        mask = torch.ones(layer.out_features, dtype=torch.bool, device=device)\n",
    "        mask[n] = 0\n",
    "        a_n = normalize_w(layer.weight[mask])\n",
    "        _, s, _ = torch.svd(a_n)\n",
    "        relative_error[n] = ncc - torch.sum(s[ncc]).detach().cpu()\n",
    "    return relative_error"
   ]
  },
  {
   "cell_type": "code",
   "execution_count": 38,
   "metadata": {},
   "outputs": [],
   "source": [
    "from models import block_regularizer, compute_layer_blocks_in\n",
    "from spectral_utils import normalize_w\n",
    "import numpy as np\n",
    "ncc = 2 #number of connected components\n",
    "\n",
    "def prune(model, layer_out, layer_in, ncc):\n",
    "    blocks = compute_layer_blocks_in(layer_out, ncc)\n",
    "    for batch_features in testloader:\n",
    "        batch_features = batch_features[0]\n",
    "        test_examples = batch_features.to(device)\n",
    "        break\n",
    "    re = neuron_wise_br(model, layer_out, blocks, test_examples, ncc)\n",
    "    removal_mask = torch.ones(layer_out.in_features, dtype=torch.bool)\n",
    "    removal_mask[np.argmin(re)] = 0\n",
    "    layer_out.remove_neurons_in(removal_mask)\n",
    "    layer_in.remove_neurons_out(removal_mask)\n",
    "    optimizer = optim.SGD(vgg16.classifier.parameters(), lr=0.001, momentum=0.9)"
   ]
  },
  {
   "cell_type": "code",
   "execution_count": 41,
   "metadata": {},
   "outputs": [],
   "source": [
    "# training function\n",
    "n_epochs = 30\n",
    "total_batches = len(trainloader)*n_epochs\n",
    "layer_size_reduction = 1000\n",
    "def fit(model, train_dataloader):\n",
    "    model.train()\n",
    "    train_running_loss = 0.0\n",
    "    train_running_correct = 0\n",
    "    for i, data in enumerate(train_dataloader):\n",
    "        data, (target, dclr_idx, bclr_idx) = data[0], data[1]\n",
    "        target += bclr_idx*10\n",
    "        data = data.to(device)\n",
    "        target = target.to(device)\n",
    "        optimizer.zero_grad()\n",
    "        output = model(data)\n",
    "        loss = criterion(output, target)\n",
    "        train_running_loss += loss.item()\n",
    "        _, preds = torch.max(output.data, 1)\n",
    "        train_running_correct += (preds == target).sum().item()\n",
    "        loss.backward()\n",
    "        optimizer.step()\n",
    "        if (i)%(total_batches/(layer_size_reduction)) == 0:\n",
    "            block_reg = block_regularizer(model.classifier[6], ncc)\n",
    "            print(\"Block regularizer \"+str(block_reg.item()))\n",
    "            prune(model, vgg16.classifier[6], vgg16.classifier[3], ncc)\n",
    "            \n",
    "    train_loss = train_running_loss/len(train_dataloader.dataset)\n",
    "    train_accuracy = 100. * train_running_correct/len(train_dataloader.dataset)\n",
    "    print(f'Train Loss: {train_loss:.4f}, Train Acc: {train_accuracy:.2f}')\n",
    "    \n",
    "    return train_loss, train_accuracy"
   ]
  },
  {
   "cell_type": "code",
   "execution_count": 42,
   "metadata": {},
   "outputs": [
    {
     "name": "stdout",
     "output_type": "stream",
     "text": [
      "0\n",
      "tensor([[  0.3000,   0.4000,   0.4000,   0.8214,   1.0000,  17.1429],\n",
      "        [  0.5000,   0.8000,   0.8000,   0.7500,   2.0000,  12.8571],\n",
      "        [  0.7000,   0.5000,   0.3000,   1.1071,   3.0000,  17.1429],\n",
      "        [  0.3000,   0.5000,   0.3000,   1.2500,   1.0000, -12.8571],\n",
      "        [  0.2000,   0.9000,   0.7000,   0.8929,   1.0000,  25.7143],\n",
      "        [  0.4000,   0.3000,   0.8000,   1.0357,   0.0000,  -8.5714],\n",
      "        [  0.4000,   0.8000,   0.2000,   1.1071,   3.0000,   0.0000],\n",
      "        [  0.3000,   0.2000,   0.2000,   0.8214,   2.0000,  12.8571],\n",
      "        [  0.7000,   0.1000,   0.3000,   1.1071,   2.0000,  -4.2857],\n",
      "        [  0.7000,   0.6000,   0.7000,   0.8929,   1.0000,  25.7143],\n",
      "        [  0.0000,   0.3000,   0.2000,   1.0357,   2.0000,   4.2857],\n",
      "        [  0.4000,   0.6000,   0.4000,   1.1071,   0.0000,  17.1429],\n",
      "        [  0.9000,   0.4000,   0.2000,   1.1786,   3.0000,  -8.5714],\n",
      "        [  0.1000,   0.8000,   0.3000,   0.8214,   3.0000, -17.1429],\n",
      "        [  0.8000,   0.2000,   0.2000,   1.1071,   2.0000, -12.8571],\n",
      "        [  0.5000,   0.7000,   0.0000,   1.2500,   1.0000,   0.0000],\n",
      "        [  0.1000,   0.8000,   0.8000,   1.0357,   0.0000,  30.0000],\n",
      "        [  0.9000,   0.0000,   0.6000,   1.2500,   0.0000,  30.0000],\n",
      "        [  0.6000,   0.0000,   0.2000,   0.7500,   3.0000, -25.7143],\n",
      "        [  0.3000,   0.9000,   0.9000,   1.0357,   0.0000,   4.2857],\n",
      "        [  0.0000,   0.1000,   0.2000,   0.9643,   2.0000,  17.1429],\n",
      "        [  0.8000,   0.1000,   0.6000,   1.2500,   3.0000,  -4.2857],\n",
      "        [  0.4000,   0.0000,   0.7000,   1.2500,   0.0000, -25.7143],\n",
      "        [  0.2000,   0.9000,   0.3000,   0.8214,   3.0000,  21.4286],\n",
      "        [  0.6000,   0.3000,   0.9000,   1.2500,   3.0000,   0.0000],\n",
      "        [  0.3000,   0.0000,   0.7000,   0.7500,   1.0000, -30.0000],\n",
      "        [  0.8000,   0.2000,   0.9000,   1.0357,   1.0000,  12.8571],\n",
      "        [  0.8000,   0.2000,   0.2000,   0.7500,   1.0000,  -8.5714],\n",
      "        [  0.9000,   0.1000,   0.7000,   0.8214,   3.0000,  25.7143],\n",
      "        [  0.2000,   0.9000,   0.5000,   0.9643,   1.0000, -17.1429],\n",
      "        [  0.6000,   0.3000,   0.9000,   1.2500,   3.0000,   0.0000],\n",
      "        [  0.4000,   0.2000,   0.6000,   0.7500,   3.0000,   0.0000]],\n",
      "       dtype=torch.float64)\n"
     ]
    },
    {
     "ename": "RuntimeError",
     "evalue": "Expected object of scalar type Long but got scalar type Double for argument #2 'target' in call to _thnn_nll_loss_forward",
     "output_type": "error",
     "traceback": [
      "\u001b[0;31m---------------------------------------------------------------------------\u001b[0m",
      "\u001b[0;31mRuntimeError\u001b[0m                              Traceback (most recent call last)",
      "\u001b[0;32m<ipython-input-42-5b49b73d413f>\u001b[0m in \u001b[0;36m<module>\u001b[0;34m\u001b[0m\n\u001b[1;32m      4\u001b[0m \u001b[0;32mfor\u001b[0m \u001b[0mepoch\u001b[0m \u001b[0;32min\u001b[0m \u001b[0mrange\u001b[0m\u001b[0;34m(\u001b[0m\u001b[0mn_epochs\u001b[0m\u001b[0;34m)\u001b[0m\u001b[0;34m:\u001b[0m\u001b[0;34m\u001b[0m\u001b[0;34m\u001b[0m\u001b[0m\n\u001b[1;32m      5\u001b[0m     \u001b[0mprint\u001b[0m\u001b[0;34m(\u001b[0m\u001b[0mepoch\u001b[0m\u001b[0;34m)\u001b[0m\u001b[0;34m\u001b[0m\u001b[0;34m\u001b[0m\u001b[0m\n\u001b[0;32m----> 6\u001b[0;31m     \u001b[0mtrain_epoch_loss\u001b[0m\u001b[0;34m,\u001b[0m \u001b[0mtrain_epoch_accuracy\u001b[0m \u001b[0;34m=\u001b[0m \u001b[0mfit\u001b[0m\u001b[0;34m(\u001b[0m\u001b[0mvgg16\u001b[0m\u001b[0;34m,\u001b[0m \u001b[0mtrainloader\u001b[0m\u001b[0;34m)\u001b[0m\u001b[0;34m\u001b[0m\u001b[0;34m\u001b[0m\u001b[0m\n\u001b[0m\u001b[1;32m      7\u001b[0m     \u001b[0mval_epoch_loss\u001b[0m\u001b[0;34m,\u001b[0m \u001b[0mval_epoch_accuracy\u001b[0m \u001b[0;34m=\u001b[0m \u001b[0mvalidate\u001b[0m\u001b[0;34m(\u001b[0m\u001b[0mvgg16\u001b[0m\u001b[0;34m,\u001b[0m \u001b[0mtestloader\u001b[0m\u001b[0;34m)\u001b[0m\u001b[0;34m\u001b[0m\u001b[0;34m\u001b[0m\u001b[0m\n\u001b[1;32m      8\u001b[0m     \u001b[0mtrain_loss\u001b[0m\u001b[0;34m.\u001b[0m\u001b[0mappend\u001b[0m\u001b[0;34m(\u001b[0m\u001b[0mtrain_epoch_loss\u001b[0m\u001b[0;34m)\u001b[0m\u001b[0;34m\u001b[0m\u001b[0;34m\u001b[0m\u001b[0m\n",
      "\u001b[0;32m<ipython-input-41-a17d1627f784>\u001b[0m in \u001b[0;36mfit\u001b[0;34m(model, train_dataloader)\u001b[0m\n\u001b[1;32m     14\u001b[0m         \u001b[0moptimizer\u001b[0m\u001b[0;34m.\u001b[0m\u001b[0mzero_grad\u001b[0m\u001b[0;34m(\u001b[0m\u001b[0;34m)\u001b[0m\u001b[0;34m\u001b[0m\u001b[0;34m\u001b[0m\u001b[0m\n\u001b[1;32m     15\u001b[0m         \u001b[0moutput\u001b[0m \u001b[0;34m=\u001b[0m \u001b[0mmodel\u001b[0m\u001b[0;34m(\u001b[0m\u001b[0mdata\u001b[0m\u001b[0;34m)\u001b[0m\u001b[0;34m\u001b[0m\u001b[0;34m\u001b[0m\u001b[0m\n\u001b[0;32m---> 16\u001b[0;31m         \u001b[0mloss\u001b[0m \u001b[0;34m=\u001b[0m \u001b[0mcriterion\u001b[0m\u001b[0;34m(\u001b[0m\u001b[0moutput\u001b[0m\u001b[0;34m,\u001b[0m \u001b[0mtarget\u001b[0m\u001b[0;34m)\u001b[0m\u001b[0;34m\u001b[0m\u001b[0;34m\u001b[0m\u001b[0m\n\u001b[0m\u001b[1;32m     17\u001b[0m         \u001b[0mtrain_running_loss\u001b[0m \u001b[0;34m+=\u001b[0m \u001b[0mloss\u001b[0m\u001b[0;34m.\u001b[0m\u001b[0mitem\u001b[0m\u001b[0;34m(\u001b[0m\u001b[0;34m)\u001b[0m\u001b[0;34m\u001b[0m\u001b[0;34m\u001b[0m\u001b[0m\n\u001b[1;32m     18\u001b[0m         \u001b[0m_\u001b[0m\u001b[0;34m,\u001b[0m \u001b[0mpreds\u001b[0m \u001b[0;34m=\u001b[0m \u001b[0mtorch\u001b[0m\u001b[0;34m.\u001b[0m\u001b[0mmax\u001b[0m\u001b[0;34m(\u001b[0m\u001b[0moutput\u001b[0m\u001b[0;34m.\u001b[0m\u001b[0mdata\u001b[0m\u001b[0;34m,\u001b[0m \u001b[0;36m1\u001b[0m\u001b[0;34m)\u001b[0m\u001b[0;34m\u001b[0m\u001b[0;34m\u001b[0m\u001b[0m\n",
      "\u001b[0;32m~/anaconda3/envs/ae/lib/python3.7/site-packages/torch/nn/modules/module.py\u001b[0m in \u001b[0;36m_call_impl\u001b[0;34m(self, *input, **kwargs)\u001b[0m\n\u001b[1;32m    725\u001b[0m             \u001b[0mresult\u001b[0m \u001b[0;34m=\u001b[0m \u001b[0mself\u001b[0m\u001b[0;34m.\u001b[0m\u001b[0m_slow_forward\u001b[0m\u001b[0;34m(\u001b[0m\u001b[0;34m*\u001b[0m\u001b[0minput\u001b[0m\u001b[0;34m,\u001b[0m \u001b[0;34m**\u001b[0m\u001b[0mkwargs\u001b[0m\u001b[0;34m)\u001b[0m\u001b[0;34m\u001b[0m\u001b[0;34m\u001b[0m\u001b[0m\n\u001b[1;32m    726\u001b[0m         \u001b[0;32melse\u001b[0m\u001b[0;34m:\u001b[0m\u001b[0;34m\u001b[0m\u001b[0;34m\u001b[0m\u001b[0m\n\u001b[0;32m--> 727\u001b[0;31m             \u001b[0mresult\u001b[0m \u001b[0;34m=\u001b[0m \u001b[0mself\u001b[0m\u001b[0;34m.\u001b[0m\u001b[0mforward\u001b[0m\u001b[0;34m(\u001b[0m\u001b[0;34m*\u001b[0m\u001b[0minput\u001b[0m\u001b[0;34m,\u001b[0m \u001b[0;34m**\u001b[0m\u001b[0mkwargs\u001b[0m\u001b[0;34m)\u001b[0m\u001b[0;34m\u001b[0m\u001b[0;34m\u001b[0m\u001b[0m\n\u001b[0m\u001b[1;32m    728\u001b[0m         for hook in itertools.chain(\n\u001b[1;32m    729\u001b[0m                 \u001b[0m_global_forward_hooks\u001b[0m\u001b[0;34m.\u001b[0m\u001b[0mvalues\u001b[0m\u001b[0;34m(\u001b[0m\u001b[0;34m)\u001b[0m\u001b[0;34m,\u001b[0m\u001b[0;34m\u001b[0m\u001b[0;34m\u001b[0m\u001b[0m\n",
      "\u001b[0;32m~/anaconda3/envs/ae/lib/python3.7/site-packages/torch/nn/modules/loss.py\u001b[0m in \u001b[0;36mforward\u001b[0;34m(self, input, target)\u001b[0m\n\u001b[1;32m    960\u001b[0m     \u001b[0;32mdef\u001b[0m \u001b[0mforward\u001b[0m\u001b[0;34m(\u001b[0m\u001b[0mself\u001b[0m\u001b[0;34m,\u001b[0m \u001b[0minput\u001b[0m\u001b[0;34m:\u001b[0m \u001b[0mTensor\u001b[0m\u001b[0;34m,\u001b[0m \u001b[0mtarget\u001b[0m\u001b[0;34m:\u001b[0m \u001b[0mTensor\u001b[0m\u001b[0;34m)\u001b[0m \u001b[0;34m->\u001b[0m \u001b[0mTensor\u001b[0m\u001b[0;34m:\u001b[0m\u001b[0;34m\u001b[0m\u001b[0;34m\u001b[0m\u001b[0m\n\u001b[1;32m    961\u001b[0m         return F.cross_entropy(input, target, weight=self.weight,\n\u001b[0;32m--> 962\u001b[0;31m                                ignore_index=self.ignore_index, reduction=self.reduction)\n\u001b[0m\u001b[1;32m    963\u001b[0m \u001b[0;34m\u001b[0m\u001b[0m\n\u001b[1;32m    964\u001b[0m \u001b[0;34m\u001b[0m\u001b[0m\n",
      "\u001b[0;32m~/anaconda3/envs/ae/lib/python3.7/site-packages/torch/nn/functional.py\u001b[0m in \u001b[0;36mcross_entropy\u001b[0;34m(input, target, weight, size_average, ignore_index, reduce, reduction)\u001b[0m\n\u001b[1;32m   2466\u001b[0m     \u001b[0;32mif\u001b[0m \u001b[0msize_average\u001b[0m \u001b[0;32mis\u001b[0m \u001b[0;32mnot\u001b[0m \u001b[0;32mNone\u001b[0m \u001b[0;32mor\u001b[0m \u001b[0mreduce\u001b[0m \u001b[0;32mis\u001b[0m \u001b[0;32mnot\u001b[0m \u001b[0;32mNone\u001b[0m\u001b[0;34m:\u001b[0m\u001b[0;34m\u001b[0m\u001b[0;34m\u001b[0m\u001b[0m\n\u001b[1;32m   2467\u001b[0m         \u001b[0mreduction\u001b[0m \u001b[0;34m=\u001b[0m \u001b[0m_Reduction\u001b[0m\u001b[0;34m.\u001b[0m\u001b[0mlegacy_get_string\u001b[0m\u001b[0;34m(\u001b[0m\u001b[0msize_average\u001b[0m\u001b[0;34m,\u001b[0m \u001b[0mreduce\u001b[0m\u001b[0;34m)\u001b[0m\u001b[0;34m\u001b[0m\u001b[0;34m\u001b[0m\u001b[0m\n\u001b[0;32m-> 2468\u001b[0;31m     \u001b[0;32mreturn\u001b[0m \u001b[0mnll_loss\u001b[0m\u001b[0;34m(\u001b[0m\u001b[0mlog_softmax\u001b[0m\u001b[0;34m(\u001b[0m\u001b[0minput\u001b[0m\u001b[0;34m,\u001b[0m \u001b[0;36m1\u001b[0m\u001b[0;34m)\u001b[0m\u001b[0;34m,\u001b[0m \u001b[0mtarget\u001b[0m\u001b[0;34m,\u001b[0m \u001b[0mweight\u001b[0m\u001b[0;34m,\u001b[0m \u001b[0;32mNone\u001b[0m\u001b[0;34m,\u001b[0m \u001b[0mignore_index\u001b[0m\u001b[0;34m,\u001b[0m \u001b[0;32mNone\u001b[0m\u001b[0;34m,\u001b[0m \u001b[0mreduction\u001b[0m\u001b[0;34m)\u001b[0m\u001b[0;34m\u001b[0m\u001b[0;34m\u001b[0m\u001b[0m\n\u001b[0m\u001b[1;32m   2469\u001b[0m \u001b[0;34m\u001b[0m\u001b[0m\n\u001b[1;32m   2470\u001b[0m \u001b[0;34m\u001b[0m\u001b[0m\n",
      "\u001b[0;32m~/anaconda3/envs/ae/lib/python3.7/site-packages/torch/nn/functional.py\u001b[0m in \u001b[0;36mnll_loss\u001b[0;34m(input, target, weight, size_average, ignore_index, reduce, reduction)\u001b[0m\n\u001b[1;32m   2262\u001b[0m                          .format(input.size(0), target.size(0)))\n\u001b[1;32m   2263\u001b[0m     \u001b[0;32mif\u001b[0m \u001b[0mdim\u001b[0m \u001b[0;34m==\u001b[0m \u001b[0;36m2\u001b[0m\u001b[0;34m:\u001b[0m\u001b[0;34m\u001b[0m\u001b[0;34m\u001b[0m\u001b[0m\n\u001b[0;32m-> 2264\u001b[0;31m         \u001b[0mret\u001b[0m \u001b[0;34m=\u001b[0m \u001b[0mtorch\u001b[0m\u001b[0;34m.\u001b[0m\u001b[0m_C\u001b[0m\u001b[0;34m.\u001b[0m\u001b[0m_nn\u001b[0m\u001b[0;34m.\u001b[0m\u001b[0mnll_loss\u001b[0m\u001b[0;34m(\u001b[0m\u001b[0minput\u001b[0m\u001b[0;34m,\u001b[0m \u001b[0mtarget\u001b[0m\u001b[0;34m,\u001b[0m \u001b[0mweight\u001b[0m\u001b[0;34m,\u001b[0m \u001b[0m_Reduction\u001b[0m\u001b[0;34m.\u001b[0m\u001b[0mget_enum\u001b[0m\u001b[0;34m(\u001b[0m\u001b[0mreduction\u001b[0m\u001b[0;34m)\u001b[0m\u001b[0;34m,\u001b[0m \u001b[0mignore_index\u001b[0m\u001b[0;34m)\u001b[0m\u001b[0;34m\u001b[0m\u001b[0;34m\u001b[0m\u001b[0m\n\u001b[0m\u001b[1;32m   2265\u001b[0m     \u001b[0;32melif\u001b[0m \u001b[0mdim\u001b[0m \u001b[0;34m==\u001b[0m \u001b[0;36m4\u001b[0m\u001b[0;34m:\u001b[0m\u001b[0;34m\u001b[0m\u001b[0;34m\u001b[0m\u001b[0m\n\u001b[1;32m   2266\u001b[0m         \u001b[0mret\u001b[0m \u001b[0;34m=\u001b[0m \u001b[0mtorch\u001b[0m\u001b[0;34m.\u001b[0m\u001b[0m_C\u001b[0m\u001b[0;34m.\u001b[0m\u001b[0m_nn\u001b[0m\u001b[0;34m.\u001b[0m\u001b[0mnll_loss2d\u001b[0m\u001b[0;34m(\u001b[0m\u001b[0minput\u001b[0m\u001b[0;34m,\u001b[0m \u001b[0mtarget\u001b[0m\u001b[0;34m,\u001b[0m \u001b[0mweight\u001b[0m\u001b[0;34m,\u001b[0m \u001b[0m_Reduction\u001b[0m\u001b[0;34m.\u001b[0m\u001b[0mget_enum\u001b[0m\u001b[0;34m(\u001b[0m\u001b[0mreduction\u001b[0m\u001b[0;34m)\u001b[0m\u001b[0;34m,\u001b[0m \u001b[0mignore_index\u001b[0m\u001b[0;34m)\u001b[0m\u001b[0;34m\u001b[0m\u001b[0;34m\u001b[0m\u001b[0m\n",
      "\u001b[0;31mRuntimeError\u001b[0m: Expected object of scalar type Long but got scalar type Double for argument #2 'target' in call to _thnn_nll_loss_forward"
     ]
    }
   ],
   "source": [
    "train_loss , train_accuracy = [], []\n",
    "val_loss , val_accuracy, br = [], [], []\n",
    "start = time.time()\n",
    "for epoch in range(n_epochs):\n",
    "    print(epoch)\n",
    "    train_epoch_loss, train_epoch_accuracy = fit(vgg16, trainloader)\n",
    "    val_epoch_loss, val_epoch_accuracy = validate(vgg16, testloader)\n",
    "    train_loss.append(train_epoch_loss)\n",
    "    train_accuracy.append(train_epoch_accuracy)\n",
    "    val_loss.append(val_epoch_loss)\n",
    "    val_accuracy.append(val_epoch_accuracy)\n",
    "    torch.save(vgg16, 'vgg16disen_e'+str(epoch)+'.pt')\n",
    "end = time.time()\n",
    "print((end-start)/60, 'minutes')"
   ]
  },
  {
   "cell_type": "code",
   "execution_count": null,
   "metadata": {},
   "outputs": [],
   "source": [
    "plt.figure(figsize=(10, 7))\n",
    "plt.plot(train_accuracy, color='green', label='train accuracy')\n",
    "plt.plot(val_accuracy, color='blue', label='validataion accuracy')\n",
    "plt.legend()\n",
    "plt.savefig('accuracy.png')\n",
    "plt.show()"
   ]
  },
  {
   "cell_type": "code",
   "execution_count": null,
   "metadata": {},
   "outputs": [],
   "source": [
    "plt.figure(figsize=(10, 7))\n",
    "plt.plot(train_loss, color='orange', label='train loss')\n",
    "plt.plot(val_loss, color='red', label='validataion loss')\n",
    "plt.legend()\n",
    "plt.savefig('loss.png')\n",
    "plt.show()"
   ]
  },
  {
   "cell_type": "code",
   "execution_count": null,
   "metadata": {},
   "outputs": [],
   "source": []
  },
  {
   "cell_type": "code",
   "execution_count": null,
   "metadata": {},
   "outputs": [],
   "source": [
    "import matplotlib.pyplot as plt\n",
    "import numpy as np\n",
    "import torch\n",
    "import torchvision\n",
    "from col_mnist import ColMNIST\n",
    "\n",
    "plt.rcParams[\"axes.grid\"] = False\n",
    "device = \"cuda\" if torch.cuda.is_available() else \"cpu\"\n",
    "\n",
    "def imshow(img):\n",
    "    #img = img / 2 + 0.5     # unnormalize\n",
    "    npimg = img.cpu().numpy()\n",
    "    plt.imshow(np.transpose(npimg, (1, 2, 0)))\n",
    "    plt.show()\n",
    "\n",
    "dataiter = iter(testloader)\n",
    "images, (target, dclr_idx, bclr_idx) = dataiter.next()\n",
    "target += bclr_idx*10\n",
    "imshow(torchvision.utils.make_grid(images))\n",
    "img_shape = images[0].shape\n",
    "print(\"Image shape: {}\".format(img_shape))\n",
    "print(target)"
   ]
  },
  {
   "cell_type": "code",
   "execution_count": null,
   "metadata": {},
   "outputs": [],
   "source": [
    "output = vgg16(images)\n",
    "output.argmax(dim=1)"
   ]
  },
  {
   "cell_type": "code",
   "execution_count": null,
   "metadata": {},
   "outputs": [],
   "source": [
    "from explainn_code.grab_functions import db_from_dat_with_labels, write_pic_as_sets\n",
    "\n",
    "tail = []\n",
    "head = []\n",
    "\n",
    "for i, data in enumerate(train_dataloader):\n",
    "    data, (target, dclr_idx, bclr_idx) = data[0], data[1]\n",
    "    target += bclr_idx*10\n",
    "    data = data.to(device)\n",
    "    target = target.to(device)\n",
    "    output = model(data).cpu()\n",
    "\n",
    "    head.append(vgg16.classifier[6].detach().cpu().numpy())\n",
    "    tail.append(target.detach().cpu().numpy())\n",
    "head = np.concatenate(head)\n",
    "tail = np.concatenate(tail)"
   ]
  },
  {
   "cell_type": "code",
   "execution_count": null,
   "metadata": {},
   "outputs": [],
   "source": [
    "write_pic_as_sets(head, \"vgg_head_blocked_v1.data\")"
   ]
  },
  {
   "cell_type": "code",
   "execution_count": null,
   "metadata": {},
   "outputs": [],
   "source": [
    "write_pic_as_sets(tail \"tail_v1.dat\")"
   ]
  },
  {
   "cell_type": "code",
   "execution_count": null,
   "metadata": {},
   "outputs": [],
   "source": [
    "!conda info --envs"
   ]
  },
  {
   "cell_type": "code",
   "execution_count": null,
   "metadata": {},
   "outputs": [],
   "source": []
  }
 ],
 "metadata": {
  "kernelspec": {
   "display_name": "Python 3",
   "language": "python",
   "name": "python3"
  },
  "language_info": {
   "codemirror_mode": {
    "name": "ipython",
    "version": 3
   },
   "file_extension": ".py",
   "mimetype": "text/x-python",
   "name": "python",
   "nbconvert_exporter": "python",
   "pygments_lexer": "ipython3",
   "version": "3.7.9"
  }
 },
 "nbformat": 4,
 "nbformat_minor": 4
}
