{
 "cells": [
  {
   "cell_type": "code",
   "execution_count": 56,
   "metadata": {},
   "outputs": [],
   "source": [
    "import torch\n",
    "import torchvision as tv\n",
    "import torchvision.transforms as transforms\n",
    "import torch.nn as nn\n",
    "import torch.nn.functional as F\n",
    "from torch.autograd import Variable\n",
    "from torchvision.utils import save_image\n",
    "import numpy as np\n",
    "\n",
    "class Autoencoder(nn.Module):\n",
    "    def __init__(self, input_shape, bottleneck_size):\n",
    "        super(Autoencoder,self).__init__()\n",
    "        self.input_shape = input_shape\n",
    "        \n",
    "        self.encoder = nn.Sequential(\n",
    "            nn.Conv2d(3, 6, kernel_size=5),\n",
    "            nn.ReLU(True),\n",
    "            nn.Conv2d(6,16,kernel_size=5),\n",
    "            nn.ReLU(True))\n",
    "        \n",
    "        self.encoder_output_layer = nn.Linear(in_features=16*(input_shape[-2]-4*2)*(input_shape[-1]-4*2), out_features=bottleneck_size)\n",
    "        self.decoder_hidden_layer = nn.Linear(in_features=bottleneck_size, out_features=16*(input_shape[-2]-4*2)*(input_shape[-1]-4*2))\n",
    "\n",
    "        self.decoder = nn.Sequential(\n",
    "            nn.ConvTranspose2d(16,6,kernel_size=5),\n",
    "            nn.ReLU(True),\n",
    "            nn.ConvTranspose2d(6,3,kernel_size=5),\n",
    "            nn.ReLU(True))\n",
    "        \n",
    "    def forward(self,x):\n",
    "        x = self.encoder(x)\n",
    "        x = x.view(-1, 16*(self.input_shape[-2]-4*2)*(self.input_shape[-1]-4*2))\n",
    "        x = self.encoder_output_layer(x)\n",
    "        x = self.decoder_hidden_layer(x)\n",
    "        x = x.view(-1, 16, self.input_shape[-2]-4*2, self.input_shape[-1]-4*2)\n",
    "        x = self.decoder(x)\n",
    "        return x"
   ]
  },
  {
   "cell_type": "code",
   "execution_count": 57,
   "metadata": {},
   "outputs": [
    {
     "data": {
      "text/plain": [
       "torch.Size([32, 3, 34, 34])"
      ]
     },
     "execution_count": 57,
     "metadata": {},
     "output_type": "execute_result"
    }
   ],
   "source": [
    "test = torch.rand(32, 3, 34, 34)\n",
    "ae = Autoencoder((3, 34, 34), 100)\n",
    "ae(test).shape"
   ]
  },
  {
   "cell_type": "code",
   "execution_count": 17,
   "metadata": {},
   "outputs": [
    {
     "data": {
      "text/plain": [
       "ConvTranspose2d(16, 6, kernel_size=(5, 5), stride=(1, 1))"
      ]
     },
     "execution_count": 17,
     "metadata": {},
     "output_type": "execute_result"
    }
   ],
   "source": [
    "ae.decoder[0]"
   ]
  }
 ],
 "metadata": {
  "kernelspec": {
   "display_name": "Python 3",
   "language": "python",
   "name": "python3"
  },
  "language_info": {
   "codemirror_mode": {
    "name": "ipython",
    "version": 3
   },
   "file_extension": ".py",
   "mimetype": "text/x-python",
   "name": "python",
   "nbconvert_exporter": "python",
   "pygments_lexer": "ipython3",
   "version": "3.7.9"
  }
 },
 "nbformat": 4,
 "nbformat_minor": 4
}
