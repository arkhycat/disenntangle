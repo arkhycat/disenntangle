{
 "cells": [
  {
   "cell_type": "code",
   "execution_count": 1,
   "metadata": {},
   "outputs": [],
   "source": [
    "import torch\n",
    "import torchvision\n",
    "import torchvision.transforms as transforms\n",
    "import numpy as np\n",
    "from mpl_toolkits.axes_grid1 import ImageGrid\n",
    "import matplotlib.pyplot as plt\n",
    "\n",
    "import json\n",
    "import enum\n",
    "import os\n",
    "\n",
    "from col_mnist import ColMNIST\n",
    "from three_d_shapes_ds import ThreeDShapes\n",
    "from models import compute_layer_blocks_out\n",
    "\n"
   ]
  },
  {
   "cell_type": "code",
   "execution_count": 2,
   "metadata": {},
   "outputs": [],
   "source": [
    "%load_ext autoreload\n",
    "%autoreload 2"
   ]
  },
  {
   "cell_type": "code",
   "execution_count": 3,
   "metadata": {},
   "outputs": [],
   "source": [
    "from three_d_shapes_ds import ThreeDShapes\n",
    "trainloader = torch.utils.data.DataLoader(\n",
    "                                      ThreeDShapes(filename='data/3dshapes.h5',\n",
    "                                                   transform=torchvision.transforms.Compose([\n",
    "                                                       torchvision.transforms.ToPILImage(), \n",
    "                                                       torchvision.transforms.Resize((32, 32)),\n",
    "                                                       torchvision.transforms.ToTensor(),\n",
    "                                      ]), filtered = False, dt_labels = True),\n",
    "                                      batch_size=32, shuffle=True)"
   ]
  },
  {
   "cell_type": "code",
   "execution_count": 4,
   "metadata": {},
   "outputs": [],
   "source": [
    "\n",
    "for i, d in enumerate(trainloader):\n",
    "    data, (latents, target) = d\n",
    "    break"
   ]
  },
  {
   "cell_type": "code",
   "execution_count": 5,
   "metadata": {},
   "outputs": [
    {
     "name": "stdout",
     "output_type": "stream",
     "text": [
      "tensor([True, True, True, True, True, True, True, True, True, True, True, True,\n",
      "        True, True, True, True, True, True, True, True, True, True, True, True,\n",
      "        True, True, True, True, True, True, True, True])\n"
     ]
    }
   ],
   "source": [
    "def target_vec_to_class(vec):\n",
    "    labels = torch.zeros((vec.shape[0]))\n",
    "    for i, v in enumerate(vec):\n",
    "        if v[2] > 0.5: #object hue\n",
    "            if v[0] > 0.5: #floor hue\n",
    "                if v[5] > 0: #orientation\n",
    "                    labels[i] = 7 #object of cooler color, cooler floor, orientation?\n",
    "                else: #orientation\n",
    "                    labels[i] = 6 #object of cooler color, cooler floor, orientation?\n",
    "            else: #floor hue\n",
    "                if v[4] > 1: #shape \n",
    "                    labels[i] = 5 #object of cooler color, warmer floor, pill or sphere\n",
    "                else: #shape\n",
    "                    labels[i] = 4 #object of cooler color, warmer floor, cylinder or cube\n",
    "        else: #object hue\n",
    "            if v[1] > 0.5: #wall hue\n",
    "                if v[3] > 1: #scale\n",
    "                    labels[i] = 3 #object of warmer color, cooler walls, bigger scale\n",
    "                else: #scale\n",
    "                    labels[i] = 2 #object of warmer color, cooler walls, smaller scale\n",
    "            else:\n",
    "                if v[4] > 2: #shape\n",
    "                    labels[i] = 1 #object of warmer color, warmer walls, pill\n",
    "                else: #shape\n",
    "                    labels[i] = 0 #object of warmer color, warmer walls, sphere, cylinder or cube                   \n",
    "\n",
    "    return labels.long()\n",
    "\n",
    "print(target_vec_to_class(latents)==target)"
   ]
  },
  {
   "cell_type": "code",
   "execution_count": 6,
   "metadata": {},
   "outputs": [
    {
     "name": "stdout",
     "output_type": "stream",
     "text": [
      "tensor([0, 6, 0, 2, 7, 3, 0, 3, 0, 2, 0, 7, 3, 0, 2, 4, 6, 0, 3, 2, 4, 0, 2, 2,\n",
      "        0, 4, 3, 4, 2, 4, 0, 3])\n",
      "tensor([0, 6, 0, 2, 7, 3, 0, 3, 0, 2, 0, 7, 3, 0, 2, 4, 6, 0, 3, 2, 4, 0, 2, 2,\n",
      "        0, 4, 3, 4, 2, 4, 0, 3])\n"
     ]
    }
   ],
   "source": [
    "print(target_vec_to_class(latents))\n",
    "print(target)"
   ]
  }
 ],
 "metadata": {
  "kernelspec": {
   "display_name": "Python 3 (ipykernel)",
   "language": "python",
   "name": "python3"
  },
  "language_info": {
   "codemirror_mode": {
    "name": "ipython",
    "version": 3
   },
   "file_extension": ".py",
   "mimetype": "text/x-python",
   "name": "python",
   "nbconvert_exporter": "python",
   "pygments_lexer": "ipython3",
   "version": "3.8.10"
  }
 },
 "nbformat": 4,
 "nbformat_minor": 4
}
