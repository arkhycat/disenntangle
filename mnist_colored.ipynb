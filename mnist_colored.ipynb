{
 "cells": [
  {
   "cell_type": "code",
   "execution_count": 1,
   "metadata": {
    "id": "0eL3CC4QmElN"
   },
   "outputs": [],
   "source": [
    "import torch\n",
    "import torchvision"
   ]
  },
  {
   "cell_type": "code",
   "execution_count": 2,
   "metadata": {
    "colab": {
     "base_uri": "https://localhost:8080/"
    },
    "id": "j3aD9vtYmLUZ",
    "outputId": "661139d8-454e-4ad5-8230-bb4cf60bec94"
   },
   "outputs": [],
   "source": [
    "\n",
    "batch_size_train = 32\n",
    "batch_size_test = 32\n",
    "learning_rate = 0.01\n",
    "momentum = 0.5\n",
    "\n",
    "random_seed = 1\n",
    "#torch.backends.cudnn.enabled = False\n",
    "torch.manual_seed(random_seed)\n",
    "device = \"cuda\" if torch.cuda.is_available() else \"cpu\""
   ]
  },
  {
   "cell_type": "markdown",
   "metadata": {
    "id": "_RjnxX1DmyOc"
   },
   "source": [
    "# Colored MNIST"
   ]
  },
  {
   "cell_type": "code",
   "execution_count": 16,
   "metadata": {},
   "outputs": [],
   "source": [
    "import random\n",
    "def coloring_frame(img):\n",
    "    clrs = [torch.tensor([1, 0, 0], dtype=torch.float),\n",
    "                  torch.tensor([0, 1, 0], dtype=torch.float), torch.tensor([0, 0, 1], dtype=torch.float)]\n",
    "    img = img.to(device).expand([3, -1, -1]).transpose(0, 2)\n",
    "    dclr_idx, bclr_idx = random.sample(list(range(len(clrs))), 2)\n",
    "    dclr, bclr = clrs[dclr_idx], clrs[bclr_idx]\n",
    "    img_digit = img * dclr.to(device)\n",
    "    img_background = (1-img) * bclr.to(device)\n",
    "    img_background[3:-3, 3:-3, :] = 0\n",
    "    return (img_digit+img_background).transpose(0, 2), dclr_idx, bclr_idx"
   ]
  },
  {
   "cell_type": "code",
   "execution_count": 17,
   "metadata": {},
   "outputs": [],
   "source": [
    "class ColMNIST(torchvision.datasets.MNIST):\n",
    "    def __init__(\n",
    "            self,\n",
    "            root,\n",
    "            train = True,\n",
    "            transform = None,\n",
    "            target_transform = None,\n",
    "            download = True, only_frame = True):\n",
    "        super(ColMNIST, self).__init__(root, train=train, transform=transform,\n",
    "                                    target_transform=target_transform, download=download)\n",
    "        if only_frame:\n",
    "            self.col_f = coloring_frame\n",
    "        else:\n",
    "            self.col_f = coloring\n",
    "\n",
    "    def __getitem__(self, index):\n",
    "        img, target = super(ColMNIST, self).__getitem__(index)\n",
    "        img, dclr_idx, bclr_idx = self.col_f(img)\n",
    "        return img, (torch.tensor(target ,device=device),\n",
    "                     torch.tensor(dclr_idx, dtype=torch.long, device=device),\n",
    "                     torch.tensor(bclr_idx, dtype=torch.long, device=device))"
   ]
  },
  {
   "cell_type": "markdown",
   "metadata": {
    "id": "_RjnxX1DmyOc"
   },
   "source": [
    "# Loading the data"
   ]
  },
  {
   "cell_type": "code",
   "execution_count": 18,
   "metadata": {
    "id": "t0YMqzBGmNHv"
   },
   "outputs": [],
   "source": [
    "train_loader = torch.utils.data.DataLoader(\n",
    "  ColMNIST('data/mnist', train=True, download=True,\n",
    "                             transform=torchvision.transforms.Compose([#torchvision.transforms.Resize((224, 224)),\n",
    "                               torchvision.transforms.ToTensor(),\n",
    "                             ])),\n",
    "  batch_size=batch_size_train, shuffle=True)\n",
    "\n",
    "test_loader = torch.utils.data.DataLoader(\n",
    "  ColMNIST('data/mnist', train=False, download=True,\n",
    "                             transform=torchvision.transforms.Compose([#torchvision.transforms.Resize((224, 224)),\n",
    "                               torchvision.transforms.ToTensor()\n",
    "                             ])),\n",
    "  batch_size=batch_size_test, shuffle=True)"
   ]
  },
  {
   "cell_type": "code",
   "execution_count": 19,
   "metadata": {},
   "outputs": [
    {
     "data": {
      "text/plain": [
       "(tensor([[[1., 1., 1.,  ..., 1., 1., 1.],\n",
       "          [1., 1., 1.,  ..., 1., 1., 1.],\n",
       "          [1., 1., 1.,  ..., 1., 1., 1.],\n",
       "          ...,\n",
       "          [1., 1., 1.,  ..., 1., 1., 1.],\n",
       "          [1., 1., 1.,  ..., 1., 1., 1.],\n",
       "          [1., 1., 1.,  ..., 1., 1., 1.]],\n",
       " \n",
       "         [[0., 0., 0.,  ..., 0., 0., 0.],\n",
       "          [0., 0., 0.,  ..., 0., 0., 0.],\n",
       "          [0., 0., 0.,  ..., 0., 0., 0.],\n",
       "          ...,\n",
       "          [0., 0., 0.,  ..., 0., 0., 0.],\n",
       "          [0., 0., 0.,  ..., 0., 0., 0.],\n",
       "          [0., 0., 0.,  ..., 0., 0., 0.]],\n",
       " \n",
       "         [[0., 0., 0.,  ..., 0., 0., 0.],\n",
       "          [0., 0., 0.,  ..., 0., 0., 0.],\n",
       "          [0., 0., 0.,  ..., 0., 0., 0.],\n",
       "          ...,\n",
       "          [0., 0., 0.,  ..., 0., 0., 0.],\n",
       "          [0., 0., 0.,  ..., 0., 0., 0.],\n",
       "          [0., 0., 0.,  ..., 0., 0., 0.]]], device='cuda:0'),\n",
       " (tensor(6, device='cuda:0'),\n",
       "  tensor(1, device='cuda:0'),\n",
       "  tensor(0, device='cuda:0')))"
      ]
     },
     "execution_count": 19,
     "metadata": {},
     "output_type": "execute_result"
    }
   ],
   "source": [
    "cm = ColMNIST('data/mnist', train=True, download=True,\n",
    "                             transform=torchvision.transforms.Compose([torchvision.transforms.Resize((224, 224)),\n",
    "                               torchvision.transforms.ToTensor(),\n",
    "                             ]))\n",
    "cm[13]"
   ]
  },
  {
   "cell_type": "code",
   "execution_count": 20,
   "metadata": {
    "colab": {
     "base_uri": "https://localhost:8080/"
    },
    "id": "n4KfcmZ2mWzx",
    "outputId": "247a4e67-6059-4222-9b53-5badb16da2b8"
   },
   "outputs": [
    {
     "data": {
      "text/plain": [
       "torch.Size([32, 3, 28, 28])"
      ]
     },
     "execution_count": 20,
     "metadata": {},
     "output_type": "execute_result"
    }
   ],
   "source": [
    "examples = enumerate(train_loader)\n",
    "batch_idx, (example_data, example_targets) = next(examples)\n",
    "example_data.shape"
   ]
  },
  {
   "cell_type": "code",
   "execution_count": 21,
   "metadata": {
    "colab": {
     "base_uri": "https://localhost:8080/",
     "height": 551
    },
    "id": "9F-zWH8rmnyT",
    "outputId": "baf6c801-f873-4501-9fb8-ebad4286307f"
   },
   "outputs": [
    {
     "data": {
      "image/png": "[encoded data removed]",
      "text/plain": [
       "<Figure size 432x288 with 1 Axes>"
      ]
     },
     "metadata": {
      "needs_background": "light"
     },
     "output_type": "display_data"
    },
    {
     "data": {
      "text/plain": [
       "torch.Size([3, 28, 28])"
      ]
     },
     "execution_count": 21,
     "metadata": {},
     "output_type": "execute_result"
    }
   ],
   "source": [
    "import matplotlib.pyplot as plt\n",
    "import numpy as np\n",
    "\n",
    "def imshow(img):\n",
    "    #img = img / 2 + 0.5     # unnormalize\n",
    "    npimg = img.cpu().numpy()\n",
    "    plt.imshow(np.transpose(npimg, (1, 2, 0)))\n",
    "    plt.show()\n",
    "\n",
    "dataiter = iter(test_loader)\n",
    "images, labels = dataiter.next()\n",
    "\n",
    "# show images\n",
    "imshow(torchvision.utils.make_grid(images))\n",
    "images[0].shape\n",
    "#print(labels)"
   ]
  },
  {
   "cell_type": "markdown",
   "metadata": {
    "id": "gzF0W7zBm356"
   },
   "source": [
    "# VGG"
   ]
  },
  {
   "cell_type": "code",
   "execution_count": 63,
   "metadata": {},
   "outputs": [],
   "source": [
    "\n",
    "\n",
    "# Imports\n",
    "import torch\n",
    "import torch.nn as nn  # All neural network modules, nn.Linear, nn.Conv2d, BatchNorm, Loss functions\n",
    "import torch.nn.functional as F\n",
    "import torch.optim as optim\n",
    "VGG_types = {\n",
    "    \"VGG11\": [64, \"M\", 128, \"M\", 256, 256, \"M\", 512, 512, \"M\", 512, 512, \"M\"],\n",
    "    \"VGG13\": [64, 64, \"M\", 128, 128, \"M\", 256, 256, \"M\", 512, 512, \"M\", 512, 512, \"M\"],\n",
    "    \"VGG16\": [\n",
    "        64,\n",
    "        64,\n",
    "        \"M\",\n",
    "        128,\n",
    "        128,\n",
    "        \"M\",\n",
    "        256,\n",
    "        256,\n",
    "        256,\n",
    "        \"M\",\n",
    "        512,\n",
    "        512,\n",
    "        512,\n",
    "        \"M\",\n",
    "        512,\n",
    "        512,\n",
    "        512,\n",
    "        \"M\",\n",
    "    ],\n",
    "    \"VGG19\": [\n",
    "        64,\n",
    "        64,\n",
    "        \"M\",\n",
    "        128,\n",
    "        128,\n",
    "        \"M\",\n",
    "        256,\n",
    "        256,\n",
    "        256,\n",
    "        256,\n",
    "        \"M\",\n",
    "        512,\n",
    "        512,\n",
    "        512,\n",
    "        512,\n",
    "        \"M\",\n",
    "        512,\n",
    "        512,\n",
    "        512,\n",
    "        512,\n",
    "        \"M\",\n",
    "    ],\n",
    "}\n",
    "\n",
    "\n",
    "class VGG_net(nn.Module):\n",
    "    def __init__(self, in_channels=3, num_classes=10):\n",
    "        super(VGG_net, self).__init__()\n",
    "        self.in_channels = in_channels\n",
    "        self.conv_layers = self.create_conv_layers(VGG_types[\"VGG16\"])\n",
    "\n",
    "        self.fcs = nn.Sequential(\n",
    "            nn.Linear(512 * 7 * 7, 4096),\n",
    "            nn.ReLU(),\n",
    "            nn.Dropout(p=0.5),\n",
    "            nn.Linear(4096, 4096),\n",
    "            nn.ReLU(),\n",
    "            nn.Dropout(p=0.5),\n",
    "        )\n",
    "        self.fcs_last = nn.Linear(4096, num_classes)\n",
    "\n",
    "    def forward(self, x):\n",
    "        x = self.conv_layers(x)\n",
    "        x = x.reshape(x.shape[0], -1)\n",
    "        x = self.fcs(x)\n",
    "        self.features = self.fcs_last(x)\n",
    "        return F.log_softmax(x)\n",
    "\n",
    "    def create_conv_layers(self, architecture):\n",
    "        layers = []\n",
    "        in_channels = self.in_channels\n",
    "\n",
    "        for x in architecture:\n",
    "            if type(x) == int:\n",
    "                out_channels = x\n",
    "\n",
    "                layers += [\n",
    "                    nn.Conv2d(\n",
    "                        in_channels=in_channels,\n",
    "                        out_channels=out_channels,\n",
    "                        kernel_size=(3, 3),\n",
    "                        stride=(1, 1),\n",
    "                        padding=(1, 1),\n",
    "                    ),\n",
    "                    nn.BatchNorm2d(x),\n",
    "                    nn.ReLU(),\n",
    "                ]\n",
    "                in_channels = x\n",
    "            elif x == \"M\":\n",
    "                layers += [nn.MaxPool2d(kernel_size=(2, 2), stride=(2, 2))]\n",
    "\n",
    "        return nn.Sequential(*layers)"
   ]
  },
  {
   "cell_type": "code",
   "execution_count": 64,
   "metadata": {
    "id": "BLZ6GqacnEmx"
   },
   "outputs": [],
   "source": [
    "network = VGG_net(in_channels=3, num_classes=(10)).to(device)\n",
    "optimizer = optim.SGD(network.parameters(), lr=learning_rate,\n",
    "                      momentum=momentum)"
   ]
  },
  {
   "cell_type": "markdown",
   "metadata": {},
   "source": [
    "# Small ConvNet"
   ]
  },
  {
   "cell_type": "code",
   "execution_count": 65,
   "metadata": {},
   "outputs": [],
   "source": [
    "import torch.nn as nn\n",
    "import torch.nn.functional as F\n",
    "import torch.optim as optim"
   ]
  },
  {
   "cell_type": "code",
   "execution_count": 66,
   "metadata": {},
   "outputs": [],
   "source": [
    "class Net(nn.Module):\n",
    "    def __init__(self, in_channels=3):\n",
    "        super(Net, self).__init__()\n",
    "        self.conv1 = nn.Conv2d(in_channels, 10, kernel_size=5)\n",
    "        self.conv2 = nn.Conv2d(10, 20, kernel_size=5)\n",
    "        self.conv2_drop = nn.Dropout2d()\n",
    "        self.fc1 = nn.Linear(320, 50)\n",
    "        self.fc2_1 = nn.Linear(50, 10)\n",
    "        self.fc2_2 = nn.Linear(50, 3)\n",
    "        self.fc2_3 = nn.Linear(50, 3)\n",
    "        self.original_w = None\n",
    "\n",
    "    def forward(self, x):\n",
    "        x = F.relu(F.max_pool2d(self.conv1(x), 2))\n",
    "        x = F.relu(F.max_pool2d(self.conv2_drop(self.conv2(x)), 2))\n",
    "        x = x.view(-1, 320)\n",
    "        self.features = F.relu(self.fc1(x))\n",
    "        x = F.dropout(self.features, training=self.training)\n",
    "        x1 = self.fc2_1(x)\n",
    "        x2 = self.fc2_2(x)\n",
    "        x3 = self.fc2_3(x)\n",
    "        return (F.log_softmax(x1), F.log_softmax(x2), F.log_softmax(x3)) #\n",
    "    "
   ]
  },
  {
   "cell_type": "code",
   "execution_count": 155,
   "metadata": {},
   "outputs": [],
   "source": [
    "network = Net().to(device)\n",
    "optimizer = optim.SGD(network.parameters(), lr=learning_rate,\n",
    "                      momentum=momentum)"
   ]
  },
  {
   "cell_type": "markdown",
   "metadata": {
    "id": "_X3qun-PnNlk"
   },
   "source": [
    "# Training"
   ]
  },
  {
   "cell_type": "code",
   "execution_count": 156,
   "metadata": {
    "id": "bt651wD3nLrd"
   },
   "outputs": [],
   "source": [
    "train_losses = []\n",
    "train_counter = []\n",
    "test_losses = []\n",
    "test_counter = [i*len(train_loader.dataset) for i in range(n_epochs + 1)]\n",
    "\n",
    "log_interval = 100"
   ]
  },
  {
   "cell_type": "code",
   "execution_count": 164,
   "metadata": {
    "id": "7WHbvYGMnSmt"
   },
   "outputs": [],
   "source": [
    "def train(epoch):\n",
    "    network.train()\n",
    "    for batch_idx, (data, target) in enumerate(train_loader):\n",
    "        optimizer.zero_grad()\n",
    "        output  = network(data.to(device))\n",
    "        loss = 0\n",
    "        for t in range(len(target)):\n",
    "            target[t] = target[t].to(device)\n",
    "            loss += F.nll_loss(output[t], target[t])\n",
    "        #l0.3 regularization\n",
    "        l = torch.tensor(0.001).to(device)\n",
    "        reg = torch.tensor(0.).to(device)\n",
    "        for param in network.parameters():\n",
    "            reg += torch.norm(param, p=0.9)\n",
    "        loss += l * reg    \n",
    "        loss.backward()\n",
    "        optimizer.step()\n",
    "        if batch_idx % log_interval == 0:\n",
    "            print('Train Epoch: {} [{}/{} ({:.0f}%)] \\tLoss: {}'.format(\n",
    "            epoch, batch_idx * len(data), len(train_loader.dataset),\n",
    "            100. * batch_idx / len(train_loader), loss.item()))\n",
    "            train_losses.append(loss.item())\n",
    "            train_counter.append(\n",
    "            (batch_idx*64) + ((epoch-1)*len(train_loader.dataset)))\n",
    "            torch.save(network.state_dict(), 'model.pth')\n",
    "            torch.save(optimizer.state_dict(), 'optimizer.pth')"
   ]
  },
  {
   "cell_type": "code",
   "execution_count": 165,
   "metadata": {
    "id": "AhbpwO0_nUrz"
   },
   "outputs": [],
   "source": [
    "def test():\n",
    "    network.eval()\n",
    "    test_loss = [0, 0, 0]\n",
    "    correct = [0, 0, 0]\n",
    "    ll_activations = []\n",
    "    pred_lst = []\n",
    "    with torch.no_grad():\n",
    "        for data, target in test_loader:\n",
    "            output  = network(data.to(device))\n",
    "            for t in range(len(target)):\n",
    "                target[t] = target[t].to(device)\n",
    "                test_loss[t] += F.nll_loss(output[t], target[t], size_average=False).item()\n",
    "                pred = output[t].data.max(1, keepdim=True)[1]\n",
    "                correct[t] += pred.eq(target[t].data.view_as(pred)).sum()\n",
    "            pred_lst.append(torch.cat([o.data for o in output], dim=1))\n",
    "            ll_activations.append(network.features)\n",
    "    test_loss = [tl/len(test_loader.dataset) for tl in test_loss]\n",
    "    test_losses.append(test_loss)\n",
    "    print('\\nTest set: Avg. loss: {}, Correct: {}/{}, Accuracy: {}\\n'.format(\n",
    "    test_loss, correct, len(test_loader.dataset),\n",
    "    [100. * c.item() / len(test_loader.dataset) for c in correct]))\n",
    "    return torch.cat(ll_activations), torch.cat(pred_lst)"
   ]
  },
  {
   "cell_type": "code",
   "execution_count": 166,
   "metadata": {
    "colab": {
     "base_uri": "https://localhost:8080/"
    },
    "id": "AOBSaTkSnWtE",
    "outputId": "729bb7e5-7cd4-4d0f-ecdc-baf0148f3c07"
   },
   "outputs": [
    {
     "name": "stderr",
     "output_type": "stream",
     "text": [
      "/home/c01ekar/anaconda3/envs/diseNN/lib/python3.6/site-packages/ipykernel_launcher.py:22: UserWarning: Implicit dimension choice for log_softmax has been deprecated. Change the call to include dim=X as an argument.\n"
     ]
    },
    {
     "name": "stdout",
     "output_type": "stream",
     "text": [
      "\n",
      "Test set: Avg. loss: [2.304543956375122, 1.1010964023590089, 1.0990267893473307], Correct: [tensor(6718, device='cuda:0'), tensor(19478, device='cuda:0'), tensor(17518, device='cuda:0')]/60000, Accuracy: [11.196666666666667, 32.46333333333333, 29.196666666666665]\n",
      "\n",
      "Train Epoch: 1 [0/60000 (0%)] \tLoss: 6.405602931976318\n",
      "Train Epoch: 1 [3200/60000 (5%)] \tLoss: 5.532715320587158\n",
      "Train Epoch: 1 [6400/60000 (11%)] \tLoss: 4.53177547454834\n",
      "Train Epoch: 1 [9600/60000 (16%)] \tLoss: 3.8435401916503906\n",
      "Train Epoch: 1 [12800/60000 (21%)] \tLoss: 3.4397218227386475\n",
      "Train Epoch: 1 [16000/60000 (27%)] \tLoss: 3.3739993572235107\n",
      "Train Epoch: 1 [19200/60000 (32%)] \tLoss: 3.2213170528411865\n",
      "Train Epoch: 1 [22400/60000 (37%)] \tLoss: 3.011392593383789\n",
      "Train Epoch: 1 [25600/60000 (43%)] \tLoss: 3.109894275665283\n",
      "Train Epoch: 1 [28800/60000 (48%)] \tLoss: 2.9430716037750244\n",
      "Train Epoch: 1 [32000/60000 (53%)] \tLoss: 2.9562578201293945\n",
      "Train Epoch: 1 [35200/60000 (59%)] \tLoss: 2.8806803226470947\n",
      "Train Epoch: 1 [38400/60000 (64%)] \tLoss: 2.8706517219543457\n",
      "Train Epoch: 1 [41600/60000 (69%)] \tLoss: 2.9048120975494385\n",
      "Train Epoch: 1 [44800/60000 (75%)] \tLoss: 2.895315170288086\n",
      "Train Epoch: 1 [48000/60000 (80%)] \tLoss: 2.892134666442871\n",
      "Train Epoch: 1 [51200/60000 (85%)] \tLoss: 2.7116034030914307\n",
      "Train Epoch: 1 [54400/60000 (91%)] \tLoss: 2.762131929397583\n",
      "Train Epoch: 1 [57600/60000 (96%)] \tLoss: 2.7638156414031982\n",
      "\n",
      "Test set: Avg. loss: [2.150301521174113, 0.00640665020942688, 0.001166804019610087], Correct: [tensor(15317, device='cuda:0'), tensor(59962, device='cuda:0'), tensor(59995, device='cuda:0')]/60000, Accuracy: [25.528333333333332, 99.93666666666667, 99.99166666666666]\n",
      "\n",
      "Train Epoch: 2 [0/60000 (0%)] \tLoss: 2.7726168632507324\n",
      "Train Epoch: 2 [3200/60000 (5%)] \tLoss: 2.8021748065948486\n",
      "Train Epoch: 2 [6400/60000 (11%)] \tLoss: 2.866481065750122\n",
      "Train Epoch: 2 [9600/60000 (16%)] \tLoss: 2.715785264968872\n",
      "Train Epoch: 2 [12800/60000 (21%)] \tLoss: 2.7731645107269287\n",
      "Train Epoch: 2 [16000/60000 (27%)] \tLoss: 2.6997759342193604\n",
      "Train Epoch: 2 [19200/60000 (32%)] \tLoss: 2.9813244342803955\n",
      "Train Epoch: 2 [22400/60000 (37%)] \tLoss: 2.730768918991089\n",
      "Train Epoch: 2 [25600/60000 (43%)] \tLoss: 2.834068536758423\n",
      "Train Epoch: 2 [28800/60000 (48%)] \tLoss: 2.38014554977417\n",
      "Train Epoch: 2 [32000/60000 (53%)] \tLoss: 2.7520177364349365\n",
      "Train Epoch: 2 [35200/60000 (59%)] \tLoss: 2.644395351409912\n",
      "Train Epoch: 2 [38400/60000 (64%)] \tLoss: 2.6112866401672363\n",
      "Train Epoch: 2 [41600/60000 (69%)] \tLoss: 2.4932491779327393\n",
      "Train Epoch: 2 [44800/60000 (75%)] \tLoss: 2.7749276161193848\n",
      "Train Epoch: 2 [48000/60000 (80%)] \tLoss: 2.6662755012512207\n",
      "Train Epoch: 2 [51200/60000 (85%)] \tLoss: 2.502915382385254\n",
      "Train Epoch: 2 [54400/60000 (91%)] \tLoss: 2.4735817909240723\n",
      "Train Epoch: 2 [57600/60000 (96%)] \tLoss: 2.8353145122528076\n",
      "\n",
      "Test set: Avg. loss: [1.654595005861918, 0.002233360728621483, 0.00031426987449328106], Correct: [tensor(31621, device='cuda:0'), tensor(59983, device='cuda:0'), tensor(59999, device='cuda:0')]/60000, Accuracy: [52.70166666666667, 99.97166666666666, 99.99833333333333]\n",
      "\n",
      "Train Epoch: 3 [0/60000 (0%)] \tLoss: 2.643557548522949\n",
      "Train Epoch: 3 [3200/60000 (5%)] \tLoss: 2.4640655517578125\n",
      "Train Epoch: 3 [6400/60000 (11%)] \tLoss: 2.601512908935547\n",
      "Train Epoch: 3 [9600/60000 (16%)] \tLoss: 2.526778221130371\n",
      "Train Epoch: 3 [12800/60000 (21%)] \tLoss: 2.4992599487304688\n",
      "Train Epoch: 3 [16000/60000 (27%)] \tLoss: 2.4530327320098877\n",
      "Train Epoch: 3 [19200/60000 (32%)] \tLoss: 2.505356550216675\n",
      "Train Epoch: 3 [22400/60000 (37%)] \tLoss: 2.626028060913086\n",
      "Train Epoch: 3 [25600/60000 (43%)] \tLoss: 2.6547977924346924\n",
      "Train Epoch: 3 [28800/60000 (48%)] \tLoss: 2.601896286010742\n",
      "Train Epoch: 3 [32000/60000 (53%)] \tLoss: 2.456406354904175\n",
      "Train Epoch: 3 [35200/60000 (59%)] \tLoss: 2.5086426734924316\n",
      "Train Epoch: 3 [38400/60000 (64%)] \tLoss: 2.3657588958740234\n",
      "Train Epoch: 3 [41600/60000 (69%)] \tLoss: 2.894287109375\n",
      "Train Epoch: 3 [44800/60000 (75%)] \tLoss: 2.621591806411743\n",
      "Train Epoch: 3 [48000/60000 (80%)] \tLoss: 2.4691507816314697\n",
      "Train Epoch: 3 [51200/60000 (85%)] \tLoss: 2.633340835571289\n",
      "Train Epoch: 3 [54400/60000 (91%)] \tLoss: 2.5062150955200195\n",
      "Train Epoch: 3 [57600/60000 (96%)] \tLoss: 2.3233280181884766\n",
      "\n",
      "Test set: Avg. loss: [1.205726925722758, 0.0025045511265595756, 0.0012793685624996822], Correct: [tensor(41298, device='cuda:0'), tensor(59991, device='cuda:0'), tensor(59993, device='cuda:0')]/60000, Accuracy: [68.83, 99.985, 99.98833333333333]\n",
      "\n"
     ]
    }
   ],
   "source": [
    "import numpy as np\n",
    "\n",
    "n_epochs = 3\n",
    "merged = []\n",
    "test()\n",
    "for epoch in range(1, n_epochs + 1):\n",
    "    train(epoch)\n",
    "    ll_act, pred = test()\n",
    "    \n",
    "    merged = np.hstack((ll_act, pred))"
   ]
  },
  {
   "cell_type": "code",
   "execution_count": 105,
   "metadata": {
    "colab": {
     "base_uri": "https://localhost:8080/",
     "height": 700
    },
    "id": "bxeJFn9S-WuW",
    "outputId": "48cf93e7-4167-4b3a-e37c-d02a18f90029"
   },
   "outputs": [
    {
     "data": {
      "text/plain": [
       "<matplotlib.colorbar.Colorbar at 0x7fe4920bec18>"
      ]
     },
     "execution_count": 105,
     "metadata": {},
     "output_type": "execute_result"
    },
    {
     "data": {
      "image/png": "[encoded data removed]",
      "text/plain": [
       "<Figure size 1080x216 with 2 Axes>"
      ]
     },
     "metadata": {
      "needs_background": "light"
     },
     "output_type": "display_data"
    }
   ],
   "source": [
    "import matplotlib.pyplot as plt\n",
    "\n",
    "plt.figure(figsize=(15,3))\n",
    "corrm = np.corrcoef(np.transpose(merged))[-16:, :-16]\n",
    "plt.imshow(corrm)\n",
    "plt.colorbar()"
   ]
  },
  {
   "cell_type": "code",
   "execution_count": 106,
   "metadata": {},
   "outputs": [
    {
     "data": {
      "text/plain": [
       "<matplotlib.image.AxesImage at 0x7fe493e03d30>"
      ]
     },
     "execution_count": 106,
     "metadata": {},
     "output_type": "execute_result"
    },
    {
     "data": {
      "image/png": "[encoded data removed]",
      "text/plain": [
       "<Figure size 1080x216 with 1 Axes>"
      ]
     },
     "metadata": {
      "needs_background": "light"
     },
     "output_type": "display_data"
    }
   ],
   "source": [
    "corr_thr = 0.3\n",
    "plt.figure(figsize=(15,3))\n",
    "plt.imshow(np.abs(corrm)>corr_thr)"
   ]
  },
  {
   "cell_type": "markdown",
   "metadata": {},
   "source": [
    "# Finding connected components"
   ]
  },
  {
   "cell_type": "code",
   "execution_count": 121,
   "metadata": {},
   "outputs": [
    {
     "data": {
      "text/plain": [
       "(36,\n",
       " array([ 0,  1,  2,  3,  4,  5,  6,  7,  8,  9, 10, 11, 12, 13, 14, 15, 12,\n",
       "         6, 15, 10, 16, 17, 18,  0, 12, 12, 19,  0, 20, 21,  0, 22, 23, 12,\n",
       "        12, 24, 12, 25, 12, 26,  1, 27, 28, 29, 15,  0, 30, 27,  6,  0],\n",
       "       dtype=int32),\n",
       " array([ 0, 31, 17, 32, 33,  2,  0,  0, 34,  0], dtype=int32),\n",
       " array([ 0, 12, 35], dtype=int32),\n",
       " array([ 0, 12, 12], dtype=int32))"
      ]
     },
     "execution_count": 121,
     "metadata": {},
     "output_type": "execute_result"
    }
   ],
   "source": [
    "from scipy.sparse import csr_matrix\n",
    "from scipy.sparse.csgraph import connected_components\n",
    "corr_thr = 0.6\n",
    "corrm_full = np.corrcoef(np.transpose(merged))\n",
    "graph = csr_matrix(np.abs(corrm_full)>corr_thr)\n",
    "\n",
    "n_components, labels = connected_components(csgraph=graph, directed=False, return_labels=True)\n",
    "n_components, labels[:50], labels[50:60], labels[60:63], labels[63:66]"
   ]
  },
  {
   "cell_type": "code",
   "execution_count": 154,
   "metadata": {},
   "outputs": [
    {
     "data": {
      "text/plain": [
       "(21,\n",
       " array([0, 1, 2], dtype=int32),\n",
       " array([3, 0, 4], dtype=int32),\n",
       " array([0, 5, 6, 7, 0, 0, 0, 0, 0, 0], dtype=int32),\n",
       " array([ 0,  0,  8,  9, 10, 11,  0,  0,  0,  0, 12, 13,  0,  0,  0,  0,  1,\n",
       "         0,  0, 14,  0, 15,  0,  0,  0,  0,  1,  0,  0,  0,  0,  0, 16,  0,\n",
       "         0,  0,  0,  0,  0,  0,  0, 17, 18,  0,  0, 19,  0, 20,  0,  0],\n",
       "       dtype=int32))"
      ]
     },
     "execution_count": 154,
     "metadata": {},
     "output_type": "execute_result"
    }
   ],
   "source": [
    "# Last layer graph\n",
    "w1 = network.fc2_1.weight.cpu().detach().numpy()\n",
    "w2 = network.fc2_2.weight.cpu().detach().numpy()\n",
    "w3 = network.fc2_3.weight.cpu().detach().numpy()\n",
    "w = np.vstack([w1, w2, w3])\n",
    "graph = np.block([\n",
    "                 [np.zeros((w.shape[0], w.shape[0])), w],\n",
    "                 [w.transpose(),                      np.zeros((w.shape[1], w.shape[1]))]])\n",
    "\n",
    "\n",
    "graph = csr_matrix(np.abs(graph)>0.45)\n",
    "\n",
    "n_components, labels = connected_components(csgraph=graph, directed=False, return_labels=True)\n",
    "n_components, labels[:3], labels[3:6], labels[6:16], labels[16:66]"
   ]
  },
  {
   "cell_type": "markdown",
   "metadata": {},
   "source": [
    "# Autoencoder"
   ]
  },
  {
   "cell_type": "code",
   "execution_count": 167,
   "metadata": {},
   "outputs": [],
   "source": [
    "class AE(nn.Module):\n",
    "    def __init__(self, input_shape):\n",
    "        super().__init__()\n",
    "        self.encoder_hidden_layer = nn.Linear(\n",
    "            in_features=input_shape, out_features=128\n",
    "        )\n",
    "        self.encoder_output_layer = nn.Linear(\n",
    "            in_features=128, out_features=128\n",
    "        )\n",
    "        self.decoder_hidden_layer = nn.Linear(\n",
    "            in_features=128, out_features=128\n",
    "        )\n",
    "        self.decoder_output_layer = nn.Linear(\n",
    "            in_features=128, out_features=input_shape\n",
    "        )\n",
    "\n",
    "    def forward(self, features):\n",
    "        activation = self.encoder_hidden_layer(features)\n",
    "        activation = torch.relu(activation)\n",
    "        code = self.encoder_output_layer(activation)\n",
    "        code = torch.relu(code)\n",
    "        activation = self.decoder_hidden_layer(code)\n",
    "        activation = torch.relu(activation)\n",
    "        activation = self.decoder_output_layer(activation)\n",
    "        reconstructed = torch.relu(activation)\n",
    "        return reconstructed"
   ]
  },
  {
   "cell_type": "code",
   "execution_count": 170,
   "metadata": {},
   "outputs": [],
   "source": [
    "input_shape = (3, 28, 28)\n",
    "flat\n",
    "ae = AE(flat_shape)\n",
    "\n",
    "for epoch in range(epochs):\n",
    "    loss = 0\n",
    "    for batch_features, _ in train_loader:\n",
    "        batch_features = batch_features.view(-1, 784).to(device)\n",
    "        \n",
    "        # reset the gradients back to zero\n",
    "        # PyTorch accumulates gradients on subsequent backward passes\n",
    "        optimizer.zero_grad()\n",
    "        \n",
    "        # compute reconstructions\n",
    "        outputs = model(batch_features)\n",
    "        \n",
    "        # compute training reconstruction loss\n",
    "        train_loss = criterion(outputs, batch_features)\n",
    "        \n",
    "        # compute accumulated gradients\n",
    "        train_loss.backward()\n",
    "        \n",
    "        # perform parameter update based on current gradients\n",
    "        optimizer.step()\n",
    "        \n",
    "        # add the mini-batch training loss to epoch loss\n",
    "        loss += train_loss.item()\n",
    "    \n",
    "    # compute the epoch training loss\n",
    "    loss = loss / len(train_loader)\n",
    "    \n",
    "    # display the epoch training loss\n",
    "    print(\"epoch : {}/{}, loss = {:.6f}\".format(epoch + 1, epochs, loss))"
   ]
  },
  {
   "cell_type": "markdown",
   "metadata": {},
   "source": [
    "# Masking"
   ]
  },
  {
   "cell_type": "code",
   "execution_count": 107,
   "metadata": {},
   "outputs": [
    {
     "ename": "ValueError",
     "evalue": "operands could not be broadcast together with shapes (16,50) (10,50) ",
     "output_type": "error",
     "traceback": [
      "\u001b[0;31m---------------------------------------------------------------------------\u001b[0m",
      "\u001b[0;31mValueError\u001b[0m                                Traceback (most recent call last)",
      "\u001b[0;32m<ipython-input-107-f42164a1d936>\u001b[0m in \u001b[0;36m<module>\u001b[0;34m\u001b[0m\n\u001b[1;32m      1\u001b[0m \u001b[0mw_thr\u001b[0m \u001b[0;34m=\u001b[0m \u001b[0;36m0.03\u001b[0m\u001b[0;34m\u001b[0m\u001b[0m\n\u001b[1;32m      2\u001b[0m \u001b[0mplt\u001b[0m\u001b[0;34m.\u001b[0m\u001b[0mfigure\u001b[0m\u001b[0;34m(\u001b[0m\u001b[0mfigsize\u001b[0m\u001b[0;34m=\u001b[0m\u001b[0;34m(\u001b[0m\u001b[0;36m15\u001b[0m\u001b[0;34m,\u001b[0m\u001b[0;36m3\u001b[0m\u001b[0;34m)\u001b[0m\u001b[0;34m)\u001b[0m\u001b[0;34m\u001b[0m\u001b[0m\n\u001b[0;32m----> 3\u001b[0;31m \u001b[0mplt\u001b[0m\u001b[0;34m.\u001b[0m\u001b[0mimshow\u001b[0m\u001b[0;34m(\u001b[0m\u001b[0;34m(\u001b[0m\u001b[0mnp\u001b[0m\u001b[0;34m.\u001b[0m\u001b[0mabs\u001b[0m\u001b[0;34m(\u001b[0m\u001b[0mcorrm\u001b[0m\u001b[0;34m)\u001b[0m\u001b[0;34m>\u001b[0m\u001b[0mcorr_thr\u001b[0m\u001b[0;34m)\u001b[0m \u001b[0;34m*\u001b[0m \u001b[0;34m(\u001b[0m\u001b[0mnetwork\u001b[0m\u001b[0;34m.\u001b[0m\u001b[0mfc2_1\u001b[0m\u001b[0;34m.\u001b[0m\u001b[0mweight\u001b[0m\u001b[0;34m>\u001b[0m\u001b[0mw_thr\u001b[0m\u001b[0;34m)\u001b[0m\u001b[0;34m)\u001b[0m\u001b[0;34m\u001b[0m\u001b[0m\n\u001b[0m",
      "\u001b[0;31mValueError\u001b[0m: operands could not be broadcast together with shapes (16,50) (10,50) "
     ]
    },
    {
     "data": {
      "text/plain": [
       "<Figure size 1080x216 with 0 Axes>"
      ]
     },
     "metadata": {},
     "output_type": "display_data"
    }
   ],
   "source": [
    "w_thr = 0.03\n",
    "plt.figure(figsize=(15,3))\n",
    "plt.imshow((np.abs(corrm)>corr_thr) * (network.fc2_1.weight>w_thr))"
   ]
  },
  {
   "cell_type": "code",
   "execution_count": null,
   "metadata": {},
   "outputs": [],
   "source": [
    "#network.mask = torch.tensor((np.abs(corrm)>corr_thr).astype(float)).float()\n",
    "for c in range(1, 10):\n",
    "    network.set_mask(torch.tensor((np.abs(corrm)>c/10).astype(float)).float())\n",
    "    print(c)\n",
    "    test()"
   ]
  },
  {
   "cell_type": "code",
   "execution_count": null,
   "metadata": {},
   "outputs": [],
   "source": [
    "network.set_mask(torch.ones(10, 50))\n",
    "w = network.fc2.weight\n",
    "for c in range(1, 20):\n",
    "    network.set_mask(torch.tensor((w>c/100)).float())\n",
    "    print(c/100)\n",
    "    test()"
   ]
  },
  {
   "cell_type": "code",
   "execution_count": null,
   "metadata": {},
   "outputs": [],
   "source": [
    "act = [[] for i in range(10)]\n",
    "for num, neu in zip(*np.where(network.mask > 0)):\n",
    "    act[num].append(neu)\n",
    "s = list(set([item for sublist in act for item in sublist]))\n",
    "mapping = {a: i for i, a in enumerate(s)}\n",
    "act_remapped = [[mapping[i] for i in sublist] for sublist in act]\n",
    "act_remapped"
   ]
  },
  {
   "cell_type": "code",
   "execution_count": null,
   "metadata": {},
   "outputs": [],
   "source": [
    "network.set_mask(torch.ones(10, 50))\n",
    "w = network.fc2.weight\n",
    "corr_thr = 0.3\n",
    "w_thr = 0.03\n",
    "print(\"Connections with corr >{} : {}%\".format(corr_thr, len(np.where(np.abs(corrm)>corr_thr)[0])/500*100))\n",
    "print(\"Connections with corr >{} and w > {}: {}%\".format(corr_thr, w_thr, len(np.where((np.abs(corrm)>corr_thr) * (w >w_thr))[0])/500*100))\n",
    "print(\"Connections with corr >{} or w > {}: {}%\".format(corr_thr, w_thr, len(np.where((np.abs(corrm)>corr_thr) + (w >w_thr))[0])/500*100))"
   ]
  },
  {
   "cell_type": "code",
   "execution_count": null,
   "metadata": {},
   "outputs": [],
   "source": [
    "network.set_mask(torch.tensor((np.abs(corrm)>0.2).astype(float)*(w>0.03)).float())\n",
    "test()"
   ]
  },
  {
   "cell_type": "code",
   "execution_count": null,
   "metadata": {},
   "outputs": [],
   "source": [
    "network = Net()\n",
    "optimizer = optim.SGD(network.parameters(), lr=learning_rate,\n",
    "                      momentum=momentum)\n",
    "network.set_mask(torch.tensor((np.abs(corrm)>0.2).astype(float)*(w>0.03)).float())"
   ]
  },
  {
   "cell_type": "code",
   "execution_count": null,
   "metadata": {},
   "outputs": [],
   "source": [
    "plt.figure(figsize=(15,3))\n",
    "plt.imshow(network.mask)\n",
    "print(len(torch.nonzero(network.mask)))"
   ]
  },
  {
   "cell_type": "code",
   "execution_count": null,
   "metadata": {},
   "outputs": [],
   "source": [
    "merged = []\n",
    "test()\n",
    "print(len(torch.nonzero(network.mask)))\n",
    "for epoch in range(1, n_epochs + 1):\n",
    "    train(epoch)\n",
    "    print(len(torch.nonzero(network.mask)))\n",
    "    ll_act, pred = test()\n",
    "    print(ll_act.shape, pred.shape)\n",
    "    merged = np.hstack((ll_act, pred))"
   ]
  },
  {
   "cell_type": "code",
   "execution_count": null,
   "metadata": {},
   "outputs": [],
   "source": [
    "plt.figure(figsize=(15,3))\n",
    "plt.imshow(network.mask)\n",
    "plt.colorbar()\n",
    "test()"
   ]
  },
  {
   "cell_type": "code",
   "execution_count": null,
   "metadata": {},
   "outputs": [],
   "source": [
    "l = []\n",
    "for p in network.parameters():\n",
    "    l.append(p.data.flatten())\n",
    "l = torch.cat(l)"
   ]
  },
  {
   "cell_type": "code",
   "execution_count": null,
   "metadata": {},
   "outputs": [],
   "source": [
    "plt.hist(l, bins=500, range=(-1, 1))"
   ]
  },
  {
   "cell_type": "code",
   "execution_count": null,
   "metadata": {},
   "outputs": [],
   "source": [
    "subgroups = [[0, 5],\n",
    "             [1, 6],\n",
    "             [4, 7],\n",
    "             [3, 4, 8],\n",
    "             [9],\n",
    "             [3, 10],\n",
    "             [2, 11],\n",
    "             [1, 12],\n",
    "             [0, 2, 13],\n",
    "             [0, 14]\n",
    "             ]\n",
    "sg_size = 3\n",
    "mask = torch.zeros(10, 50)\n",
    "for i, s in enumerate(subgroups):\n",
    "    #self.subgroups.append([x*sg_size+i for x in s for i in range(sg_size)])\n",
    "    for x in s:\n",
    "        mask[i, x*sg_size:x*sg_size+sg_size]=1\n",
    "    \n",
    "plt.figure(figsize=(15,3))\n",
    "plt.imshow(mask)\n",
    "plt.colorbar()"
   ]
  },
  {
   "cell_type": "code",
   "execution_count": null,
   "metadata": {},
   "outputs": [],
   "source": [
    "network = Net()\n",
    "optimizer = optim.SGD(network.parameters(), lr=learning_rate,\n",
    "                      momentum=momentum)\n",
    "network.set_mask(torch.tensor(mask).float())\n",
    "merged = []\n",
    "test()\n",
    "print(len(torch.nonzero(network.mask)))\n",
    "for epoch in range(1, n_epochs + 1):\n",
    "    train(epoch)\n",
    "    print(len(torch.nonzero(network.mask)))\n",
    "    ll_act, pred = test()\n",
    "    print(ll_act.shape, pred.shape)\n",
    "    merged = np.hstack((ll_act, pred))"
   ]
  },
  {
   "cell_type": "code",
   "execution_count": null,
   "metadata": {},
   "outputs": [],
   "source": [
    "network = Net()\n",
    "optimizer = optim.SGD(network.parameters(), lr=learning_rate,\n",
    "                      momentum=momentum)\n",
    "network.set_mask(torch.zeros(10, 50).float())\n",
    "merged = []\n",
    "test()\n",
    "print(len(torch.nonzero(network.mask)))\n",
    "for epoch in range(1, n_epochs + 1):\n",
    "    train(epoch)\n",
    "    print(len(torch.nonzero(network.mask)))\n",
    "    ll_act, pred = test()\n",
    "    print(ll_act.shape, pred.shape)\n",
    "    merged = np.hstack((ll_act, pred))"
   ]
  },
  {
   "cell_type": "code",
   "execution_count": null,
   "metadata": {
    "colab": {
     "base_uri": "https://localhost:8080/",
     "height": 880
    },
    "id": "8yEXeoZlrgWE",
    "outputId": "a0c6223d-2789-42a0-a15d-2b8d3b95af15"
   },
   "outputs": [],
   "source": [
    "import numpy as np\n",
    "\n",
    "plt.figure(figsize=(15,15))\n",
    "plt.imshow(np.corrcoef(np.transpose(merged)))\n"
   ]
  },
  {
   "cell_type": "code",
   "execution_count": null,
   "metadata": {},
   "outputs": [],
   "source": []
  }
 ],
 "metadata": {
  "accelerator": "GPU",
  "colab": {
   "authorship_tag": "ABX9TyNoEzA6lRmPaz1v0lEU6sKD",
   "include_colab_link": true,
   "name": "mnist_disentangling.ipynb",
   "provenance": [],
   "toc_visible": true
  },
  "kernelspec": {
   "display_name": "Python 3",
   "language": "python",
   "name": "python3"
  },
  "language_info": {
   "codemirror_mode": {
    "name": "ipython",
    "version": 3
   },
   "file_extension": ".py",
   "mimetype": "text/x-python",
   "name": "python",
   "nbconvert_exporter": "python",
   "pygments_lexer": "ipython3",
   "version": "3.7.9"
  }
 },
 "nbformat": 4,
 "nbformat_minor": 1
}
