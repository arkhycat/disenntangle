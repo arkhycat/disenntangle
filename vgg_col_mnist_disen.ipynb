{
 "cells": [
  {
   "cell_type": "code",
   "execution_count": 1,
   "metadata": {},
   "outputs": [],
   "source": [
    "import torch\n",
    "import torchvision\n",
    "import torchvision.transforms as transforms\n",
    "import torch.optim as optim\n",
    "import time\n",
    "import torch.nn.functional as F\n",
    "import torch.nn as nn\n",
    "import matplotlib.pyplot as plt\n",
    "from torchvision import models"
   ]
  },
  {
   "cell_type": "code",
   "execution_count": 2,
   "metadata": {},
   "outputs": [
    {
     "name": "stdout",
     "output_type": "stream",
     "text": [
      "cuda:0\n"
     ]
    }
   ],
   "source": [
    "# check GPU availability\n",
    "device = torch.device(\"cuda:0\" if torch.cuda.is_available() else \"cpu\")\n",
    "print(device)"
   ]
  },
  {
   "cell_type": "code",
   "execution_count": 3,
   "metadata": {},
   "outputs": [],
   "source": [
    "from col_mnist import ColMNIST\n",
    "trainloader = torch.utils.data.DataLoader(\n",
    "  ColMNIST('data/mnist', train=True, download=True,\n",
    "                             transform=torchvision.transforms.Compose([#torchvision.transforms.Resize((224, 224)),\n",
    "                               torchvision.transforms.ToTensor(),\n",
    "                             ])),\n",
    "  batch_size=32, shuffle=True)\n",
    "\n",
    "testloader = torch.utils.data.DataLoader(\n",
    "  ColMNIST('data/mnist', train=False, download=True,\n",
    "                             transform=torchvision.transforms.Compose([#torchvision.transforms.Resize((224, 224)),\n",
    "                               torchvision.transforms.ToTensor()\n",
    "                             ])),\n",
    "  batch_size=32, shuffle=True)"
   ]
  },
  {
   "cell_type": "code",
   "execution_count": 4,
   "metadata": {},
   "outputs": [
    {
     "name": "stdout",
     "output_type": "stream",
     "text": [
      "VGG(\n",
      "  (features): Sequential(\n",
      "    (0): Conv2d(3, 64, kernel_size=(3, 3), stride=(1, 1), padding=(1, 1))\n",
      "    (1): ReLU(inplace=True)\n",
      "    (2): Conv2d(64, 64, kernel_size=(3, 3), stride=(1, 1), padding=(1, 1))\n",
      "    (3): ReLU(inplace=True)\n",
      "    (4): MaxPool2d(kernel_size=2, stride=2, padding=0, dilation=1, ceil_mode=False)\n",
      "    (5): Conv2d(64, 128, kernel_size=(3, 3), stride=(1, 1), padding=(1, 1))\n",
      "    (6): ReLU(inplace=True)\n",
      "    (7): Conv2d(128, 128, kernel_size=(3, 3), stride=(1, 1), padding=(1, 1))\n",
      "    (8): ReLU(inplace=True)\n",
      "    (9): MaxPool2d(kernel_size=2, stride=2, padding=0, dilation=1, ceil_mode=False)\n",
      "    (10): Conv2d(128, 256, kernel_size=(3, 3), stride=(1, 1), padding=(1, 1))\n",
      "    (11): ReLU(inplace=True)\n",
      "    (12): Conv2d(256, 256, kernel_size=(3, 3), stride=(1, 1), padding=(1, 1))\n",
      "    (13): ReLU(inplace=True)\n",
      "    (14): Conv2d(256, 256, kernel_size=(3, 3), stride=(1, 1), padding=(1, 1))\n",
      "    (15): ReLU(inplace=True)\n",
      "    (16): MaxPool2d(kernel_size=2, stride=2, padding=0, dilation=1, ceil_mode=False)\n",
      "    (17): Conv2d(256, 512, kernel_size=(3, 3), stride=(1, 1), padding=(1, 1))\n",
      "    (18): ReLU(inplace=True)\n",
      "    (19): Conv2d(512, 512, kernel_size=(3, 3), stride=(1, 1), padding=(1, 1))\n",
      "    (20): ReLU(inplace=True)\n",
      "    (21): Conv2d(512, 512, kernel_size=(3, 3), stride=(1, 1), padding=(1, 1))\n",
      "    (22): ReLU(inplace=True)\n",
      "    (23): MaxPool2d(kernel_size=2, stride=2, padding=0, dilation=1, ceil_mode=False)\n",
      "    (24): Conv2d(512, 512, kernel_size=(3, 3), stride=(1, 1), padding=(1, 1))\n",
      "    (25): ReLU(inplace=True)\n",
      "    (26): Conv2d(512, 512, kernel_size=(3, 3), stride=(1, 1), padding=(1, 1))\n",
      "    (27): ReLU(inplace=True)\n",
      "    (28): Conv2d(512, 512, kernel_size=(3, 3), stride=(1, 1), padding=(1, 1))\n",
      "    (29): ReLU(inplace=True)\n",
      "    (30): MaxPool2d(kernel_size=2, stride=2, padding=0, dilation=1, ceil_mode=False)\n",
      "  )\n",
      "  (avgpool): AdaptiveAvgPool2d(output_size=(7, 7))\n",
      "  (classifier): Sequential(\n",
      "    (0): Linear(in_features=25088, out_features=4096, bias=True)\n",
      "    (1): ReLU(inplace=True)\n",
      "    (2): Dropout(p=0.5, inplace=False)\n",
      "    (3): Linear(in_features=4096, out_features=4096, bias=True)\n",
      "    (4): ReLU(inplace=True)\n",
      "    (5): Dropout(p=0.5, inplace=False)\n",
      "    (6): Linear(in_features=4096, out_features=1000, bias=True)\n",
      "  )\n",
      ")\n"
     ]
    }
   ],
   "source": [
    "vgg16 = models.vgg16(pretrained=True)\n",
    "vgg16.to(device)\n",
    "print(vgg16)"
   ]
  },
  {
   "cell_type": "code",
   "execution_count": 5,
   "metadata": {},
   "outputs": [],
   "source": [
    "# change the number of classes \n",
    "vgg16.classifier[6].out_features = 30\n",
    "# freeze convolution weights\n",
    "for param in vgg16.features.parameters():\n",
    "    param.requires_grad = True"
   ]
  },
  {
   "cell_type": "code",
   "execution_count": 6,
   "metadata": {},
   "outputs": [],
   "source": [
    "from models import DisentangledLinear, BlockDropout\n",
    "\n",
    "n_classes = 30\n",
    "\n",
    "vgg16.classifier[6] = DisentangledLinear(vgg16.classifier[6].in_features, n_classes).to(device)\n",
    "vgg16.classifier[5] = BlockDropout(vgg16.classifier[6], ncc=2, apply_to=\"in\")\n",
    "\n",
    "for param in vgg16.features.parameters():\n",
    "    param.requires_grad = True"
   ]
  },
  {
   "cell_type": "code",
   "execution_count": 7,
   "metadata": {},
   "outputs": [],
   "source": [
    "# optimizer\n",
    "optimizer = optim.SGD(vgg16.classifier.parameters(), lr=0.001, momentum=0.9)\n",
    "# loss function\n",
    "criterion = nn.CrossEntropyLoss()"
   ]
  },
  {
   "cell_type": "code",
   "execution_count": 8,
   "metadata": {},
   "outputs": [],
   "source": [
    "# validation function\n",
    "def validate(model, test_dataloader):\n",
    "    model.eval()\n",
    "    val_running_loss = 0.0\n",
    "    val_running_correct = 0\n",
    "    for int, data in enumerate(test_dataloader):\n",
    "        data, (target, dclr_idx, bclr_idx) = data[0], data[1]\n",
    "        target += bclr_idx*10\n",
    "        data = data.to(device)\n",
    "        target = target.to(device)\n",
    "        output = model(data)\n",
    "        loss = criterion(output, target)\n",
    "        \n",
    "        val_running_loss += loss.item()\n",
    "        _, preds = torch.max(output.data, 1)\n",
    "        val_running_correct += (preds == target).sum().item()\n",
    "    \n",
    "    val_loss = val_running_loss/len(test_dataloader.dataset)\n",
    "    val_accuracy = 100. * val_running_correct/len(test_dataloader.dataset)\n",
    "    print(f'Val Loss: {val_loss:.4f}, Val Acc: {val_accuracy:.2f}')\n",
    "    \n",
    "    return val_loss, val_accuracy"
   ]
  },
  {
   "cell_type": "code",
   "execution_count": 9,
   "metadata": {},
   "outputs": [],
   "source": [
    "# training function\n",
    "def fit(model, train_dataloader):\n",
    "    model.train()\n",
    "    train_running_loss = 0.0\n",
    "    train_running_correct = 0\n",
    "    for i, data in enumerate(train_dataloader):\n",
    "        data, (target, dclr_idx, bclr_idx) = data[0], data[1]\n",
    "        target += bclr_idx*10\n",
    "        data = data.to(device)\n",
    "        target = target.to(device)\n",
    "        optimizer.zero_grad()\n",
    "        output = model(data)\n",
    "        loss = criterion(output, target)\n",
    "        train_running_loss += loss.item()\n",
    "        _, preds = torch.max(output.data, 1)\n",
    "        train_running_correct += (preds == target).sum().item()\n",
    "        loss.backward()\n",
    "        optimizer.step()\n",
    "    train_loss = train_running_loss/len(train_dataloader.dataset)\n",
    "    train_accuracy = 100. * train_running_correct/len(train_dataloader.dataset)\n",
    "    print(f'Train Loss: {train_loss:.4f}, Train Acc: {train_accuracy:.2f}')\n",
    "    \n",
    "    return train_loss, train_accuracy"
   ]
  },
  {
   "cell_type": "code",
   "execution_count": null,
   "metadata": {},
   "outputs": [
    {
     "name": "stdout",
     "output_type": "stream",
     "text": [
      "0\n",
      "Train Loss: 0.0309, Train Acc: 69.28\n",
      "Val Loss: 0.0183, Val Acc: 83.73\n",
      "1\n",
      "Train Loss: 0.0167, Train Acc: 82.73\n",
      "Val Loss: 0.0136, Val Acc: 88.25\n",
      "2\n",
      "Train Loss: 0.0138, Train Acc: 85.64\n",
      "Val Loss: 0.0133, Val Acc: 89.00\n",
      "3\n",
      "Train Loss: 0.0122, Train Acc: 87.30\n",
      "Val Loss: 0.0111, Val Acc: 90.43\n",
      "4\n",
      "Train Loss: 0.0112, Train Acc: 88.38\n",
      "Val Loss: 0.0112, Val Acc: 91.04\n",
      "5\n",
      "Train Loss: 0.0104, Train Acc: 89.11\n",
      "Val Loss: 0.0098, Val Acc: 91.72\n",
      "6\n",
      "Train Loss: 0.0099, Train Acc: 89.74\n",
      "Val Loss: 0.0094, Val Acc: 92.56\n",
      "7\n",
      "Train Loss: 0.0093, Train Acc: 90.25\n",
      "Val Loss: 0.0085, Val Acc: 92.60\n",
      "8\n",
      "Train Loss: 0.0089, Train Acc: 90.67\n",
      "Val Loss: 0.0098, Val Acc: 92.20\n",
      "9\n",
      "Train Loss: 0.0087, Train Acc: 90.97\n",
      "Val Loss: 0.0088, Val Acc: 92.61\n",
      "10\n",
      "Train Loss: 0.0084, Train Acc: 91.18\n",
      "Val Loss: 0.0084, Val Acc: 93.09\n",
      "11\n",
      "Train Loss: 0.0081, Train Acc: 91.52\n",
      "Val Loss: 0.0082, Val Acc: 93.00\n",
      "12\n",
      "Train Loss: 0.0079, Train Acc: 91.69\n",
      "Val Loss: 0.0080, Val Acc: 93.24\n",
      "13\n",
      "Train Loss: 0.0077, Train Acc: 91.96\n",
      "Val Loss: 0.0092, Val Acc: 92.74\n",
      "14\n",
      "Train Loss: 0.0076, Train Acc: 92.20\n",
      "Val Loss: 0.0090, Val Acc: 92.87\n",
      "15\n",
      "Train Loss: 0.0073, Train Acc: 92.36\n",
      "Val Loss: 0.0082, Val Acc: 93.31\n",
      "16\n",
      "Train Loss: 0.0073, Train Acc: 92.35\n",
      "Val Loss: 0.0077, Val Acc: 93.57\n",
      "17\n",
      "Train Loss: 0.0071, Train Acc: 92.47\n",
      "Val Loss: 0.0076, Val Acc: 93.87\n",
      "18\n",
      "Train Loss: 0.0070, Train Acc: 92.54\n",
      "Val Loss: 0.0077, Val Acc: 94.01\n",
      "19\n",
      "Train Loss: 0.0068, Train Acc: 92.79\n",
      "Val Loss: 0.0069, Val Acc: 94.43\n",
      "20\n",
      "Train Loss: 0.0067, Train Acc: 92.94\n",
      "Val Loss: 0.0072, Val Acc: 94.04\n",
      "21\n",
      "Train Loss: 0.0065, Train Acc: 93.11\n",
      "Val Loss: 0.0073, Val Acc: 94.11\n",
      "22\n",
      "Train Loss: 0.0065, Train Acc: 93.15\n",
      "Val Loss: 0.0070, Val Acc: 94.78\n",
      "23\n",
      "Train Loss: 0.0065, Train Acc: 93.27\n",
      "Val Loss: 0.0073, Val Acc: 94.09\n",
      "24\n",
      "Train Loss: 0.0063, Train Acc: 93.34\n",
      "Val Loss: 0.0070, Val Acc: 94.38\n",
      "25\n"
     ]
    }
   ],
   "source": [
    "train_loss , train_accuracy = [], []\n",
    "val_loss , val_accuracy = [], []\n",
    "start = time.time()\n",
    "for epoch in range(30):\n",
    "    print(epoch)\n",
    "    train_epoch_loss, train_epoch_accuracy = fit(vgg16, trainloader)\n",
    "    val_epoch_loss, val_epoch_accuracy = validate(vgg16, testloader)\n",
    "    train_loss.append(train_epoch_loss)\n",
    "    train_accuracy.append(train_epoch_accuracy)\n",
    "    val_loss.append(val_epoch_loss)\n",
    "    val_accuracy.append(val_epoch_accuracy)\n",
    "    torch.save(vgg16, 'vgg16disen_e'+str(epoch)+'.pt')\n",
    "end = time.time()\n",
    "print((end-start)/60, 'minutes')"
   ]
  },
  {
   "cell_type": "code",
   "execution_count": null,
   "metadata": {},
   "outputs": [],
   "source": [
    "plt.figure(figsize=(10, 7))\n",
    "plt.plot(train_accuracy, color='green', label='train accuracy')\n",
    "plt.plot(val_accuracy, color='blue', label='validataion accuracy')\n",
    "plt.legend()\n",
    "plt.savefig('accuracy.png')\n",
    "plt.show()"
   ]
  },
  {
   "cell_type": "code",
   "execution_count": null,
   "metadata": {},
   "outputs": [],
   "source": [
    "plt.figure(figsize=(10, 7))\n",
    "plt.plot(train_loss, color='orange', label='train loss')\n",
    "plt.plot(val_loss, color='red', label='validataion loss')\n",
    "plt.legend()\n",
    "plt.savefig('loss.png')\n",
    "plt.show()"
   ]
  },
  {
   "cell_type": "code",
   "execution_count": null,
   "metadata": {},
   "outputs": [],
   "source": [
    "import matplotlib.pyplot as plt\n",
    "import numpy as np\n",
    "import torch\n",
    "import torchvision\n",
    "from col_mnist import ColMNIST\n",
    "\n",
    "plt.rcParams[\"axes.grid\"] = False\n",
    "device = \"cuda\" if torch.cuda.is_available() else \"cpu\"\n",
    "\n",
    "def imshow(img):\n",
    "    #img = img / 2 + 0.5     # unnormalize\n",
    "    npimg = img.cpu().numpy()\n",
    "    plt.imshow(np.transpose(npimg, (1, 2, 0)))\n",
    "    plt.show()\n",
    "\n",
    "dataiter = iter(testloader)\n",
    "images, (target, dclr_idx, bclr_idx) = dataiter.next()\n",
    "target += bclr_idx*10\n",
    "imshow(torchvision.utils.make_grid(images))\n",
    "img_shape = images[0].shape\n",
    "print(\"Image shape: {}\".format(img_shape))\n",
    "print(target)"
   ]
  },
  {
   "cell_type": "code",
   "execution_count": null,
   "metadata": {},
   "outputs": [],
   "source": [
    "output = vgg16(images)\n",
    "output.argmax(dim=1)"
   ]
  },
  {
   "cell_type": "code",
   "execution_count": null,
   "metadata": {},
   "outputs": [],
   "source": [
    "from explainn_code.grab_functions import db_from_dat_with_labels, write_pic_as_sets\n",
    "\n",
    "tail = []\n",
    "head = []\n",
    "\n",
    "for i, data in enumerate(train_dataloader):\n",
    "    data, (target, dclr_idx, bclr_idx) = data[0], data[1]\n",
    "    target += bclr_idx*10\n",
    "    data = data.to(device)\n",
    "    target = target.to(device)\n",
    "    output = model(data).cpu()\n",
    "\n",
    "    head.append(vgg16.classifier[6].detach().cpu().numpy())\n",
    "    tail.append(target.detach().cpu().numpy())\n",
    "head = np.concatenate(head)\n",
    "tail = np.concatenate(tail)"
   ]
  },
  {
   "cell_type": "code",
   "execution_count": null,
   "metadata": {},
   "outputs": [],
   "source": [
    "write_pic_as_sets(head, \"vgg_head_blocked_v1.data\")"
   ]
  },
  {
   "cell_type": "code",
   "execution_count": null,
   "metadata": {},
   "outputs": [],
   "source": [
    "write_pic_as_sets(tail \"tail_v1.dat\")"
   ]
  }
 ],
 "metadata": {
  "kernelspec": {
   "display_name": "Python 3",
   "language": "python",
   "name": "python3"
  },
  "language_info": {
   "codemirror_mode": {
    "name": "ipython",
    "version": 3
   },
   "file_extension": ".py",
   "mimetype": "text/x-python",
   "name": "python",
   "nbconvert_exporter": "python",
   "pygments_lexer": "ipython3",
   "version": "3.7.6"
  }
 },
 "nbformat": 4,
 "nbformat_minor": 4
}
